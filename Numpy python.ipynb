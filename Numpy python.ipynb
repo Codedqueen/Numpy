{
 "cells": [
  {
   "cell_type": "markdown",
   "id": "2ae55c8a-77e4-4c21-98d5-1dbcf41ebf75",
   "metadata": {
    "tags": []
   },
   "source": [
    "## NUMPY (Numerical Python library)\n",
    "\n",
    "##### NUMPY is the fundamental package for numeric computing with python.\n",
    "##### It provides powerful ways to create, store,and/or manipulate data \n",
    "##### which makes it able to samlessly and speedily integrate with a wide\n",
    "##### variety of data base.It is the foundation that pandas is buit on\n",
    "##### which is a high perfomance data centic package that we we will later \n",
    "##### learn in the course.creating arrays with certain data types ,\n",
    "##### manipulating array, selecting elements from arrays and loading dataset\n",
    "##### into array such functions are useful for manipulating data and understanding\n",
    "##### the fundamentalities of other common python data packages.\n",
    "##### (import numpy as np, import math)\n",
    "\n",
    " #### ARRAY CREATION \n",
    " #####  Arrays are displayed as a list or list of list and can be created through\n",
    "##### list as well,when creating an array, we pass in an arguement in numpy\n",
    "#####  array a = np.array([1, 2,3])"
   ]
  },
  {
   "cell_type": "markdown",
   "id": "d2d4577c-3955-417a-a5fc-48608a3fd058",
   "metadata": {},
   "source": [
    "### One Dimensional Numpy"
   ]
  },
  {
   "cell_type": "code",
   "execution_count": null,
   "id": "bd00db2d-6850-4ccb-88d6-82fe4f7a4da3",
   "metadata": {},
   "outputs": [],
   "source": [
    "# a= np.array([1,2,3,4])\n",
    "# indexing and slicing\n",
    "# Like list and turples we can slice the numpy array\n",
    "# C:array[100, 1, 2, 3, 0]\n",
    "# d = c[1:4] # like list we dont count the element corresponding to the last index\n",
    "# We can assign new values\n",
    "# c[3:5]= 300,400"
   ]
  },
  {
   "cell_type": "code",
   "execution_count": null,
   "id": "755d11ce-22ce-4328-bf0b-c69124074361",
   "metadata": {},
   "outputs": [],
   "source": [
    "# Basic Operation\n",
    "# Some of the operations in one dimentional arrays\n",
    "# Vector addition and substraction\n",
    "# e.g U =1,0\n",
    "#     V = 0,1\n",
    "#     Z = U + V = ([1 + 0] ,[0 + 1]),\n",
    "\n",
    "# U = np.array([1, 0])\n",
    "# V = np.array([0, 1])\n",
    "# z = U-V\n",
    "#Z:array([1,-1])\n",
    "\n",
    "#U=[1,0]\n",
    "#V=[0,1]\n",
    "#z=[]\n",
    "#for n, m in (u,v):\n",
    "#    Z.append(n-m)\n",
    "# Vector multiplication\n",
    "# It requires one line of code using Numpy\n",
    "# y=np.array([1,2])\n",
    "# z=2*y\n",
    "# z:array([2,4])\n",
    "# y=[1,2]\n",
    "# z=[]\n",
    "# for n in y:\n",
    "# z.append(2*n)"
   ]
  },
  {
   "cell_type": "code",
   "execution_count": null,
   "id": "0d0e6b5b-f676-44a1-b85b-c731a7647242",
   "metadata": {},
   "outputs": [],
   "source": [
    "# Product of two numpy arrays; adding more products\n",
    "# U = np.array([1, 2])\n",
    "# V = np.array([3, 2])\n",
    "# z = U*V\n",
    "#Z:array([3,4])\n",
    "\n",
    "#U=[1,02\n",
    "#V=[3,2]\n",
    "#z=[]\n",
    "#for n, m in zip(u,v):\n",
    "#    Z.append(n*m)"
   ]
  },
  {
   "cell_type": "code",
   "execution_count": null,
   "id": "62e18e85-a86a-4bc1-a8c6-2048c3040340",
   "metadata": {},
   "outputs": [],
   "source": [
    "# Dot Product\n",
    "# it is a simple number that reps how similar two vectors are;\n",
    "# first we multiply the first component from v and u and the second component and then add the result together.\n",
    "# e.g U =1,2\n",
    "#     V = 3,1\n",
    "#     U^ V = ([1 * 03 +[2 * 1])=5\n",
    "\n",
    "# We can also perform the task with variable belpw and still get same result\n",
    " # U = np.array([1, 2])\n",
    "# V = np.array([3, 1])\n",
    "# result=np.dot(U,V)\n",
    "# result :5"
   ]
  },
  {
   "cell_type": "code",
   "execution_count": null,
   "id": "99d6f2d7-25a1-4158-892d-c083fb8e0087",
   "metadata": {},
   "outputs": [],
   "source": [
    "# Adding a constant to a Numpy array\n",
    "# Consider the value u, if we add a scaler value to the array, numpy will add such value to each element \n",
    "# This property is known as broadcasting.\n",
    "# u = np.array([1,2,3,-1])\n",
    "# z=u+1\n",
    "# z:array([2,3,4,0])"
   ]
  },
  {
   "cell_type": "code",
   "execution_count": 2,
   "id": "5f0cb6fd-8270-4b1f-90c9-7f6b88674735",
   "metadata": {},
   "outputs": [],
   "source": [
    "# Universal Function\n",
    "# This is a function that operates on nd arrays and we can apply it on numpy array.\n",
    "# consider the value a, we can calculate it using the method mean, we can also use \n",
    "#the universal function to find the max value\n",
    "\n",
    "# a=np.array([1,-1,1,-1])\n",
    "# mean_a=a.mean()\n",
    "# mean_a:0.0\n",
    "# 1/4(1 -1 +1 -1) =0\n",
    "\n",
    "#Finding max value\n",
    "# b=np.array([1, 2, 3, 4, 5])\n",
    "# max_b=b.max()\n",
    "# max_b:5\n",
    "# 1/4(1 -1 +1 -1) =0\n",
    "\n",
    "# we can also use universal function to create functions that match numpy array to new numpy array.\n",
    "# How to access the value of pi in numpy array\n",
    "# np.pi\n",
    "# x=np.array([0, np.pi/2, np,pi])\n",
    "# y=np.sin(x)\n",
    "# y:array([0,1.1.2e-16])\n",
    "#Result\n",
    "# pi\n",
    "# x= [0,pi/2,pi]\n",
    "# y = [sin(0), sin(pi/2),sin(pi)]\n",
    "# y = [0,1,0]"
   ]
  },
  {
   "cell_type": "code",
   "execution_count": null,
   "id": "82e294a3-e1d5-48aa-8b8a-20ca7eefa5a0",
   "metadata": {},
   "outputs": [],
   "source": [
    "# Another useful function for plotting mathematical functions is 'linspace'\n",
    "# it returns evenly spaced numbers of a specified interval\n",
    "# np.linspace(-2,2,num=5)\n",
    "# with this we get 5 evenly spaced numbers starting from (2 to 2)\n",
    "# np.linspace(-2,2,num=9) if we change to 9, the result spreads to 9 evenly spaced numbers\n",
    "# We can also use the numpy function to mark the array x"
   ]
  },
  {
   "cell_type": "code",
   "execution_count": null,
   "id": "1428bbc2-06d0-4a08-ae3b-1cce7ed5a669",
   "metadata": {},
   "outputs": [],
   "source": [
    "# Plotting mathematical functions\n",
    "\n",
    "# We can also use line space to generate 100 evenly spaced samples from  interval 0 to 2pi\n",
    "# x=np.linspace(0,2*np.pi,100)\n",
    "\n",
    "# We can also use the numpy function sin to match the array ,x with new array y\n",
    "# y=np.sin(x)\n",
    "\n",
    "# we can import the libary  pyplot as plt to help us plot function\n",
    "# import matplotlib.pyplot as plt\n",
    "\n",
    "# We use the command matplot inline to display the plot\n",
    "# %matplotlib inline\n",
    "# plt.plot(x,y)\n",
    "\n",
    "# There is alot we can do with numpy, for more on numpy: numpy.org"
   ]
  },
  {
   "cell_type": "markdown",
   "id": "ad9ae85e-ebeb-4439-b650-f2d086596045",
   "metadata": {
    "tags": []
   },
   "source": [
    "### Two Dimensional Numpy"
   ]
  },
  {
   "cell_type": "code",
   "execution_count": null,
   "id": "b58edb7b-cc50-4511-862a-f51566392b1b",
   "metadata": {},
   "outputs": [],
   "source": [
    "# We can create arrays with more than one dimension\n",
    "# The Basics and array Creation in 2D\n",
    "# Consider the following nested list, convert it to numpy array\n",
    "#E.g of a nested list\n",
    "# a = [[21,22,23]],[[21,22,23]] [[31,32,33]]\n",
    "\n",
    "#convert to numpy array\n",
    "A = np.array(a)\n",
    "\n",
    "# We can use the attribute A.ndim:2 to obtain the number of axes or dimension reffered to as the rank\n",
    "# A.ndim can also be discribed as the number of nested list,the first list reps the first dimension and\n",
    "# this list contains another set of list which reps the second dimension or axis.\n",
    "#The number of list does not have to do with the dimension or the shape of the list as in the 1d array\n",
    "# the result returned a turple, the 1st no of the turple corresponds with the number of nested list.\n",
    "# we can use A.shape to get the shape of the array while a.size helps us with the size of the array\n",
    "# We can use rectangular bracket[], to access the different element of the array.\n",
    "\n",
    "\n",
    "\n",
    "# Indexing and Slicing in 2D\n",
    "# Basic Operations in 2D"
   ]
  },
  {
   "cell_type": "code",
   "execution_count": 1,
   "id": "8dfdd57b-87cb-4aeb-95e0-7eae73ad92d4",
   "metadata": {},
   "outputs": [
    {
     "name": "stdout",
     "output_type": "stream",
     "text": [
      "[1 2 3]\n"
     ]
    }
   ],
   "source": [
    "import numpy as np\n",
    "import math\n",
    "a = np.array([1, 2, 3,])\n",
    "print(a)"
   ]
  },
  {
   "cell_type": "code",
   "execution_count": 2,
   "id": "1a18e3d3-d641-43b3-aee4-b28a349b8ec8",
   "metadata": {},
   "outputs": [
    {
     "name": "stdout",
     "output_type": "stream",
     "text": [
      "1\n"
     ]
    }
   ],
   "source": [
    "# get Dimension we can get the dimension of a list using the ndim attribute\n",
    "print(a.ndim)      "
   ]
  },
  {
   "cell_type": "code",
   "execution_count": 3,
   "id": "b50831dd-927c-4e61-9943-84eb7710b3df",
   "metadata": {},
   "outputs": [],
   "source": [
    "# if we pass in a list in numpy array we create a multi dimentional array , for instance a matrix below;"
   ]
  },
  {
   "cell_type": "code",
   "execution_count": 4,
   "id": "f90cf33b-e499-4338-a108-95cb594dce1c",
   "metadata": {},
   "outputs": [
    {
     "name": "stdout",
     "output_type": "stream",
     "text": [
      "[[1 2 3]\n",
      " [4 5 6]]\n"
     ]
    }
   ],
   "source": [
    "b = np.array([[1,2,3],[4,5,6]])\n",
    "print(b)"
   ]
  },
  {
   "cell_type": "code",
   "execution_count": 5,
   "id": "9b3f1742-48d0-48d3-8165-fdbe14d0d010",
   "metadata": {},
   "outputs": [
    {
     "data": {
      "text/plain": [
       "array([[1, 2, 3],\n",
       "       [4, 5, 6]])"
      ]
     },
     "execution_count": 5,
     "metadata": {},
     "output_type": "execute_result"
    }
   ],
   "source": [
    "b"
   ]
  },
  {
   "cell_type": "code",
   "execution_count": 6,
   "id": "7a07527c-87a2-48c1-bc28-33f45920c81e",
   "metadata": {},
   "outputs": [],
   "source": [
    "#We can put out the length of each dimension by calling the shape attribute,\n",
    "# which returns a turple, \n",
    "# note that negative numbers means slicing from the back."
   ]
  },
  {
   "cell_type": "code",
   "execution_count": 7,
   "id": "02344319-f070-47fe-a5a6-5b12b7dc48e8",
   "metadata": {},
   "outputs": [
    {
     "data": {
      "text/plain": [
       "(2, 3)"
      ]
     },
     "execution_count": 7,
     "metadata": {},
     "output_type": "execute_result"
    }
   ],
   "source": [
    "# Get shape\n",
    "b.shape"
   ]
  },
  {
   "cell_type": "code",
   "execution_count": 8,
   "id": "108fb5ca-7b6b-4f38-aa64-e1a5d5071a7f",
   "metadata": {},
   "outputs": [
    {
     "data": {
      "text/plain": [
       "dtype('int32')"
      ]
     },
     "execution_count": 8,
     "metadata": {},
     "output_type": "execute_result"
    }
   ],
   "source": [
    "# Get type the type of items in the array\n",
    "a.dtype"
   ]
  },
  {
   "cell_type": "code",
   "execution_count": 9,
   "id": "fd6f7224-5f9d-42a8-8550-31e20825b495",
   "metadata": {},
   "outputs": [
    {
     "data": {
      "text/plain": [
       "4"
      ]
     },
     "execution_count": 9,
     "metadata": {},
     "output_type": "execute_result"
    }
   ],
   "source": [
    "# Get size\n",
    "a.itemsize"
   ]
  },
  {
   "cell_type": "code",
   "execution_count": 10,
   "id": "c2fc7fb7-e326-4f84-b2c7-ab2b37803a11",
   "metadata": {},
   "outputs": [
    {
     "data": {
      "text/plain": [
       "4"
      ]
     },
     "execution_count": 10,
     "metadata": {},
     "output_type": "execute_result"
    }
   ],
   "source": [
    "# floats are usually bigger.besides integers floats are also accepted in numpy array\n",
    "b.itemsize"
   ]
  },
  {
   "cell_type": "code",
   "execution_count": 11,
   "id": "761d701c-e9d9-4b42-bc3a-94c725ab595a",
   "metadata": {},
   "outputs": [
    {
     "data": {
      "text/plain": [
       "12"
      ]
     },
     "execution_count": 11,
     "metadata": {},
     "output_type": "execute_result"
    }
   ],
   "source": [
    "\n",
    "# Total size\n",
    "a.nbytes"
   ]
  },
  {
   "cell_type": "code",
   "execution_count": 12,
   "id": "51f6c31a-9e5f-4d92-b2d7-b546fcc877cd",
   "metadata": {},
   "outputs": [
    {
     "data": {
      "text/plain": [
       "'float64'"
      ]
     },
     "execution_count": 12,
     "metadata": {},
     "output_type": "execute_result"
    }
   ],
   "source": [
    "# Besides integers floats are also accepted in numpy array\n",
    "\n",
    "c = np.array([2, 2, 5, 1.1])\n",
    "c.dtype.name"
   ]
  },
  {
   "cell_type": "code",
   "execution_count": 13,
   "id": "1a1faf52-dadf-48e8-9d34-910ecd5a371a",
   "metadata": {},
   "outputs": [
    {
     "data": {
      "text/plain": [
       "array([2. , 2. , 5. , 1.1])"
      ]
     },
     "execution_count": 13,
     "metadata": {},
     "output_type": "execute_result"
    }
   ],
   "source": [
    "# let,s look at the data in our array\n",
    "c"
   ]
  },
  {
   "cell_type": "code",
   "execution_count": 14,
   "id": "37cceabf-b0cd-444a-8e3f-92b953b072ff",
   "metadata": {},
   "outputs": [],
   "source": [
    "# Note that Numpy automatically converts integers like 5 up to floats \n",
    "# since there is no loss of prescision.\n",
    "# Numpy will try and give you the best data type format possible to keep\n",
    "# your data type homogeneous,which means all thesame in the array.\n"
   ]
  },
  {
   "cell_type": "code",
   "execution_count": 15,
   "id": "68735190-9779-4d22-ab43-ccd65fc5a30d",
   "metadata": {},
   "outputs": [
    {
     "name": "stdout",
     "output_type": "stream",
     "text": [
      "[[0. 0. 0.]\n",
      " [0. 0. 0.]]\n",
      "[[1. 1. 1.]\n",
      " [1. 1. 1.]]\n"
     ]
    }
   ],
   "source": [
    "# Sometimes we know the type of the array that we want to create but not\n",
    "# what we want to be in it.Numpy offers several functions to create arrays \n",
    "# with initial placeholders such as zeros and ones.\n",
    "# Lets create two arrays both with same shape but different filler values\n",
    "\n",
    "\n",
    "d = np.zeros((2, 3))\n",
    "print(d)\n",
    "\n",
    "e = np.ones((2, 3))\n",
    "print(e)"
   ]
  },
  {
   "cell_type": "code",
   "execution_count": 16,
   "id": "518fca4f-8dc5-4371-8f96-a2ab2e99ec82",
   "metadata": {},
   "outputs": [
    {
     "data": {
      "text/plain": [
       "array([[0.93317318, 0.89646927, 0.99931938],\n",
       "       [0.90206418, 0.81145933, 0.39275846]])"
      ]
     },
     "execution_count": 16,
     "metadata": {},
     "output_type": "execute_result"
    }
   ],
   "source": [
    "# We can also generate an array with random numbers\n",
    "np.random.rand(2, 3)"
   ]
  },
  {
   "cell_type": "code",
   "execution_count": 17,
   "id": "c54f6f80-d779-466b-b1a7-baead3f866e3",
   "metadata": {},
   "outputs": [],
   "source": [
    "# You will see zeros, ones and rand used quite often to create example arrays \n",
    "# especially in stackoverflows\n",
    "# post and other forums."
   ]
  },
  {
   "cell_type": "code",
   "execution_count": 18,
   "id": "ea551acf-b4cf-4fee-a9b8-86399998e490",
   "metadata": {},
   "outputs": [
    {
     "data": {
      "text/plain": [
       "array([10, 12, 14, 16, 18, 20, 22, 24, 26, 28, 30, 32, 34, 36, 38, 40, 42,\n",
       "       44, 46, 48])"
      ]
     },
     "execution_count": 18,
     "metadata": {},
     "output_type": "execute_result"
    }
   ],
   "source": [
    "# We can also create a sequence of numbers in an array with the arrange function() ,the first arguement\n",
    "# is the starting bound, and the second arguement is the ending bound and the third arguement is the differnce between\n",
    "# each consecutive number.\n",
    "# Let,s create an array of every even number from 10 (inclusive) to 50 (exclusive)\n",
    "\n",
    "f = np.arange(10, 50, 2)\n",
    "f"
   ]
  },
  {
   "cell_type": "code",
   "execution_count": 19,
   "id": "bdb3687a-ac40-4e6b-acc2-baae0cee08ad",
   "metadata": {},
   "outputs": [
    {
     "data": {
      "text/plain": [
       "array([0.        , 0.14285714, 0.28571429, 0.42857143, 0.57142857,\n",
       "       0.71428571, 0.85714286, 1.        , 1.14285714, 1.28571429,\n",
       "       1.42857143, 1.57142857, 1.71428571, 1.85714286, 2.        ])"
      ]
     },
     "execution_count": 19,
     "metadata": {},
     "output_type": "execute_result"
    }
   ],
   "source": [
    "# If you want to generate a sequence of float we can use the linspace() function.In this function the third \n",
    "# arguement isn't the difference between two numbers but the total number of items you want to generate.\n",
    "np.linspace(0, 2, 15) # this means that we want 15 numbers from 0 (inclusive) to 2 (inclusive)"
   ]
  },
  {
   "cell_type": "code",
   "execution_count": 20,
   "id": "885689f2-ded1-43b9-b472-cc985b43c46c",
   "metadata": {},
   "outputs": [],
   "source": [
    "# Array Operations"
   ]
  },
  {
   "cell_type": "code",
   "execution_count": 21,
   "id": "816ec58c-552a-455d-8a8a-303a1ac33fb9",
   "metadata": {},
   "outputs": [],
   "source": [
    "# We can do many things on arrays such as mathematical operations(addition, subtraction,square,exponents)\n",
    "# as well as use boolean arays which are binary values.We can also do matrix manipulations such as product\n",
    "# transpose, inverse and so forth"
   ]
  },
  {
   "cell_type": "code",
   "execution_count": 22,
   "id": "bf847ff7-97fe-4bc1-939a-58a58c8b0b5d",
   "metadata": {},
   "outputs": [
    {
     "name": "stdout",
     "output_type": "stream",
     "text": [
      "[ 9 18 27 36]\n",
      "[ 10  40  90 160]\n"
     ]
    }
   ],
   "source": [
    "# Arithemetic operators on arrays apply elementwise\n",
    "# lets create a couple of arrays\n",
    "a = np.array([10, 20, 30, 40])\n",
    "b = np.array([1, 2, 3, 4])\n",
    "\n",
    "# Now lets look at a-b\n",
    "c = a-b\n",
    "print(c)\n",
    "\n",
    "#Lets look at a*b\n",
    "d = a * b \n",
    "print(d)\n",
    "\n"
   ]
  },
  {
   "cell_type": "markdown",
   "id": "79367ca4-c27d-4632-a789-6c10bf3dcb89",
   "metadata": {
    "tags": []
   },
   "source": [
    "#### Accessing/changing specific elements rows,columns etc;"
   ]
  },
  {
   "cell_type": "code",
   "execution_count": 23,
   "id": "3fa4abe8-1fad-44b5-855b-a62de4157939",
   "metadata": {},
   "outputs": [
    {
     "name": "stdout",
     "output_type": "stream",
     "text": [
      "[[ 1  2  3  4  5  6  7]\n",
      " [ 8  9 10 11 12 13 14]]\n"
     ]
    }
   ],
   "source": [
    "# 2x7 dimensional array\n",
    "a = np.array([[1,2,3,4,5,6,7],[8,9,10,11,12,13,14]])\n",
    "print(a)"
   ]
  },
  {
   "cell_type": "code",
   "execution_count": 24,
   "id": "6ce63871-e3be-4bdb-a8f0-1b407c346e97",
   "metadata": {},
   "outputs": [
    {
     "data": {
      "text/plain": [
       "13"
      ]
     },
     "execution_count": 24,
     "metadata": {},
     "output_type": "execute_result"
    }
   ],
   "source": [
    "#Get a specific element [r, c] note, 1 is 0 in numpy when counting r,c\n",
    "a[1, 5]"
   ]
  },
  {
   "cell_type": "code",
   "execution_count": 25,
   "id": "463cee58-f3d1-44ec-bc77-246176dccb07",
   "metadata": {},
   "outputs": [
    {
     "data": {
      "text/plain": [
       "13"
      ]
     },
     "execution_count": 25,
     "metadata": {},
     "output_type": "execute_result"
    }
   ],
   "source": [
    "# this also gives you same result\n",
    "a[1, -2]"
   ]
  },
  {
   "cell_type": "code",
   "execution_count": 26,
   "id": "c831b18b-716b-4420-8db7-27a08076b578",
   "metadata": {},
   "outputs": [
    {
     "data": {
      "text/plain": [
       "array([1, 2, 3, 4, 5, 6, 7])"
      ]
     },
     "execution_count": 26,
     "metadata": {},
     "output_type": "execute_result"
    }
   ],
   "source": [
    "#Get a specific row\n",
    "a[0, :]"
   ]
  },
  {
   "cell_type": "code",
   "execution_count": 27,
   "id": "bce9aee1-29ec-473a-a2a8-6c45ffdac8fc",
   "metadata": {},
   "outputs": [
    {
     "data": {
      "text/plain": [
       "array([[ 1,  2,  3,  4,  5,  6,  7],\n",
       "       [ 8,  9, 10, 11, 12, 13, 14]])"
      ]
     },
     "execution_count": 27,
     "metadata": {},
     "output_type": "execute_result"
    }
   ],
   "source": [
    "#To print out both all r,c;\n",
    "a[0:]"
   ]
  },
  {
   "cell_type": "code",
   "execution_count": 28,
   "id": "44d8864e-83b0-4e7a-a789-b3ebc82f8cfc",
   "metadata": {},
   "outputs": [
    {
     "data": {
      "text/plain": [
       "array([ 3, 10])"
      ]
     },
     "execution_count": 28,
     "metadata": {},
     "output_type": "execute_result"
    }
   ],
   "source": [
    "# Get a specific column\n",
    "a[:, 2]"
   ]
  },
  {
   "cell_type": "code",
   "execution_count": 29,
   "id": "e8866c99-3f62-45cc-957f-55b0a21dee52",
   "metadata": {},
   "outputs": [
    {
     "data": {
      "text/plain": [
       "array([2, 4, 6])"
      ]
     },
     "execution_count": 29,
     "metadata": {},
     "output_type": "execute_result"
    }
   ],
   "source": [
    "# Get little more fancy [startindex:endindex:stepsize]\n",
    "a[0, 1: -1 :2]"
   ]
  },
  {
   "cell_type": "code",
   "execution_count": 30,
   "id": "83358202-9ed0-4d91-9db0-ab2af0247114",
   "metadata": {},
   "outputs": [
    {
     "data": {
      "text/plain": [
       "array([2, 4, 6])"
      ]
     },
     "execution_count": 30,
     "metadata": {},
     "output_type": "execute_result"
    }
   ],
   "source": [
    "a[0, 1: :2]"
   ]
  },
  {
   "cell_type": "code",
   "execution_count": 31,
   "id": "c5ce7046-69d7-43ad-8a8a-13539abed8a2",
   "metadata": {},
   "outputs": [
    {
     "name": "stdout",
     "output_type": "stream",
     "text": [
      "[[ 1  2  3  4  5  6  7]\n",
      " [ 8  9 10 11 12 20 14]]\n",
      "[[ 1  2  5  4  5  6  7]\n",
      " [ 8  9  5 11 12 20 14]]\n",
      "[[ 1  2  1  4  5  6  7]\n",
      " [ 8  9  2 11 12 20 14]]\n"
     ]
    }
   ],
   "source": [
    "#If you want to change original element 13 to 20 in  r 1,c 5\n",
    "a[1,5] = 20\n",
    "print(a)\n",
    "\n",
    "#if you want it to be all 5\n",
    "a[:, 2] = 5\n",
    "print(a)\n",
    "\n",
    "#if i want to change to 1,2\n",
    "a[:, 2] = [1,2]\n",
    "print(a)"
   ]
  },
  {
   "cell_type": "markdown",
   "id": "3fbb4ec1-7841-4f2d-ab32-1f160ed091cb",
   "metadata": {},
   "source": [
    "### 3 dimensional array-example"
   ]
  },
  {
   "cell_type": "code",
   "execution_count": 32,
   "id": "5e9eaad1-a9ab-4c64-9d85-ebf111bffffd",
   "metadata": {},
   "outputs": [
    {
     "name": "stdout",
     "output_type": "stream",
     "text": [
      "[[[1 2]\n",
      "  [3 4]]\n",
      "\n",
      " [[5 6]\n",
      "  [7 8]]]\n"
     ]
    }
   ],
   "source": [
    "b = np.array([[[1,2],[3,4]],[[5,6],[7,8]]])\n",
    "print(b)"
   ]
  },
  {
   "cell_type": "code",
   "execution_count": 33,
   "id": "7b0409b2-809b-4351-9db5-89dbce6a3c94",
   "metadata": {},
   "outputs": [
    {
     "data": {
      "text/plain": [
       "4"
      ]
     },
     "execution_count": 33,
     "metadata": {},
     "output_type": "execute_result"
    }
   ],
   "source": [
    "#If you want to get a specific element (work outside in)\n",
    "\n",
    "b[0,1,1]"
   ]
  },
  {
   "cell_type": "code",
   "execution_count": 34,
   "id": "af389ae4-ed56-4dc0-8eb4-7a27277f151a",
   "metadata": {},
   "outputs": [
    {
     "data": {
      "text/plain": [
       "array([[3, 4],\n",
       "       [7, 8]])"
      ]
     },
     "execution_count": 34,
     "metadata": {},
     "output_type": "execute_result"
    }
   ],
   "source": [
    "b[:, 1, :]"
   ]
  },
  {
   "cell_type": "code",
   "execution_count": 35,
   "id": "1d1990b4-4e0f-4e8b-9559-c7e3fdae73d8",
   "metadata": {},
   "outputs": [
    {
     "data": {
      "text/plain": [
       "array([[1, 2],\n",
       "       [5, 6]])"
      ]
     },
     "execution_count": 35,
     "metadata": {},
     "output_type": "execute_result"
    }
   ],
   "source": [
    "b[:, 0, :]"
   ]
  },
  {
   "cell_type": "code",
   "execution_count": 36,
   "id": "08f60721-8dc8-4300-a641-24773595a0ec",
   "metadata": {},
   "outputs": [
    {
     "data": {
      "text/plain": [
       "array([[[1, 2],\n",
       "        [9, 9]],\n",
       "\n",
       "       [[5, 6],\n",
       "        [8, 8]]])"
      ]
     },
     "execution_count": 36,
     "metadata": {},
     "output_type": "execute_result"
    }
   ],
   "source": [
    "#If you want to replace in this case\n",
    "b[:, 1, :] = [[9, 9],[8, 8]]\n",
    "b"
   ]
  },
  {
   "cell_type": "markdown",
   "id": "29fc7e34-45fd-4ee5-88f6-08f9aead8b52",
   "metadata": {},
   "source": [
    "### Initializing different types of Arrays"
   ]
  },
  {
   "cell_type": "code",
   "execution_count": 37,
   "id": "b94c7f43-7900-4a1e-a39f-599482dc46d0",
   "metadata": {},
   "outputs": [],
   "source": [
    "# All zeros matrix"
   ]
  },
  {
   "cell_type": "code",
   "execution_count": 38,
   "id": "d0060bbc-3606-42f3-9fb8-a9535d551854",
   "metadata": {},
   "outputs": [
    {
     "data": {
      "text/plain": [
       "array([[0., 0., 0.],\n",
       "       [0., 0., 0.]])"
      ]
     },
     "execution_count": 38,
     "metadata": {},
     "output_type": "execute_result"
    }
   ],
   "source": [
    "np.zeros((2,3))"
   ]
  },
  {
   "cell_type": "code",
   "execution_count": 39,
   "id": "2169d855-c113-4532-9e43-5670b1161396",
   "metadata": {},
   "outputs": [
    {
     "data": {
      "text/plain": [
       "array([0., 0., 0., 0., 0.])"
      ]
     },
     "execution_count": 39,
     "metadata": {},
     "output_type": "execute_result"
    }
   ],
   "source": [
    "np.zeros(5)"
   ]
  },
  {
   "cell_type": "code",
   "execution_count": 40,
   "id": "b3973ffe-0ce9-48ab-ae51-1f4caeec398a",
   "metadata": {},
   "outputs": [],
   "source": [
    " # All 1s matrix (all ones matrix)"
   ]
  },
  {
   "cell_type": "code",
   "execution_count": 41,
   "id": "e9f916fb-fd63-4af3-9577-af7abf560795",
   "metadata": {},
   "outputs": [
    {
     "data": {
      "text/plain": [
       "array([[[1, 1],\n",
       "        [1, 1]],\n",
       "\n",
       "       [[1, 1],\n",
       "        [1, 1]],\n",
       "\n",
       "       [[1, 1],\n",
       "        [1, 1]],\n",
       "\n",
       "       [[1, 1],\n",
       "        [1, 1]]])"
      ]
     },
     "execution_count": 41,
     "metadata": {},
     "output_type": "execute_result"
    }
   ],
   "source": [
    "np.ones((4, 2, 2), dtype = 'int32')"
   ]
  },
  {
   "cell_type": "code",
   "execution_count": 42,
   "id": "0ff9cd25-57cb-43eb-9c2f-fe3b943f066a",
   "metadata": {},
   "outputs": [],
   "source": [
    "# Any other number"
   ]
  },
  {
   "cell_type": "code",
   "execution_count": 43,
   "id": "596c557d-57d7-4938-ab8d-399e855482da",
   "metadata": {},
   "outputs": [
    {
     "data": {
      "text/plain": [
       "array([[99., 99.],\n",
       "       [99., 99.]], dtype=float32)"
      ]
     },
     "execution_count": 43,
     "metadata": {},
     "output_type": "execute_result"
    }
   ],
   "source": [
    "np.full((2,2), 99, dtype = 'float32')"
   ]
  },
  {
   "cell_type": "code",
   "execution_count": 44,
   "id": "216de4a3-5ecf-431f-9a1f-9baf6fec3a70",
   "metadata": {},
   "outputs": [
    {
     "data": {
      "text/plain": [
       "'float64'"
      ]
     },
     "execution_count": 44,
     "metadata": {},
     "output_type": "execute_result"
    }
   ],
   "source": [
    "c = np.array([2,2.5,1,1])\n",
    "\n",
    "c.dtype.name"
   ]
  },
  {
   "cell_type": "code",
   "execution_count": 45,
   "id": "e40cd6fd-ba94-4fb3-8614-9e199b26ad99",
   "metadata": {},
   "outputs": [
    {
     "data": {
      "text/plain": [
       "array([2. , 2.5, 1. , 1. ])"
      ]
     },
     "execution_count": 45,
     "metadata": {},
     "output_type": "execute_result"
    }
   ],
   "source": [
    "c"
   ]
  },
  {
   "cell_type": "code",
   "execution_count": 46,
   "id": "cf3eff68-522d-493a-a734-9d2d81cd75da",
   "metadata": {},
   "outputs": [
    {
     "name": "stdout",
     "output_type": "stream",
     "text": [
      "[[0. 0. 0.]\n",
      " [0. 0. 0.]]\n",
      "[[1. 1. 1.]\n",
      " [1. 1. 1.]]\n"
     ]
    }
   ],
   "source": [
    "d = np.zeros((2,3))\n",
    "print(d)\n",
    "\n",
    "e = np.ones((2,3))\n",
    "print(e)"
   ]
  },
  {
   "cell_type": "code",
   "execution_count": 47,
   "id": "3418e250-d3b6-43f7-b2dd-ddad6de7862c",
   "metadata": {},
   "outputs": [
    {
     "data": {
      "text/plain": [
       "array([[0.1048965 , 0.63796061, 0.83489535],\n",
       "       [0.71681098, 0.87719118, 0.40136137]])"
      ]
     },
     "execution_count": 47,
     "metadata": {},
     "output_type": "execute_result"
    }
   ],
   "source": [
    "np.random.rand(2,3)"
   ]
  },
  {
   "cell_type": "code",
   "execution_count": 48,
   "id": "16748295-d20e-421c-8839-77b08475c8b7",
   "metadata": {},
   "outputs": [
    {
     "data": {
      "text/plain": [
       "array([[0.73859233, 0.11020928],\n",
       "       [0.430077  , 0.55761764],\n",
       "       [0.25120417, 0.1207706 ],\n",
       "       [0.02694952, 0.04865442]])"
      ]
     },
     "execution_count": 48,
     "metadata": {},
     "output_type": "execute_result"
    }
   ],
   "source": [
    "np.random.rand(4,2)"
   ]
  },
  {
   "cell_type": "code",
   "execution_count": 49,
   "id": "d3da2cb3-40ba-4ebb-b8b2-7d08bc82b4e0",
   "metadata": {},
   "outputs": [
    {
     "data": {
      "text/plain": [
       "array([[[0.26869652, 0.93106557, 0.33680893],\n",
       "        [0.02727003, 0.40304211, 0.57213047]],\n",
       "\n",
       "       [[0.68847743, 0.82101929, 0.28995212],\n",
       "        [0.90093594, 0.67330917, 0.90395802]],\n",
       "\n",
       "       [[0.61857315, 0.35941331, 0.42315623],\n",
       "        [0.67060823, 0.73555464, 0.84353283]],\n",
       "\n",
       "       [[0.42940125, 0.50243706, 0.24351965],\n",
       "        [0.97288731, 0.47609875, 0.67241664]]])"
      ]
     },
     "execution_count": 49,
     "metadata": {},
     "output_type": "execute_result"
    }
   ],
   "source": [
    "np.random.rand(4, 2, 3)"
   ]
  },
  {
   "cell_type": "code",
   "execution_count": 50,
   "id": "2b632f28-1dce-4662-b04b-d7527f6536da",
   "metadata": {},
   "outputs": [
    {
     "data": {
      "text/plain": [
       "array([[0.692636  , 0.27820033, 0.13367424, 0.1995516 , 0.73430436,\n",
       "        0.31989152, 0.56741863],\n",
       "       [0.75641398, 0.74646477, 0.6855561 , 0.34693224, 0.16129894,\n",
       "        0.42430382, 0.37565063]])"
      ]
     },
     "execution_count": 50,
     "metadata": {},
     "output_type": "execute_result"
    }
   ],
   "source": [
    "np.random.random_sample(a.shape)"
   ]
  },
  {
   "cell_type": "code",
   "execution_count": 51,
   "id": "72fc0488-a5ba-4e12-a8d1-48b006732cd9",
   "metadata": {},
   "outputs": [
    {
     "data": {
      "text/plain": [
       "array([[4, 4, 4],\n",
       "       [5, 1, 5],\n",
       "       [6, 1, 6]])"
      ]
     },
     "execution_count": 51,
     "metadata": {},
     "output_type": "execute_result"
    }
   ],
   "source": [
    "#Random integer values\n",
    "np.random.randint(7, size = (3,3))"
   ]
  },
  {
   "cell_type": "code",
   "execution_count": 52,
   "id": "cb526520-5a60-4fcc-b64a-e9502459465a",
   "metadata": {},
   "outputs": [
    {
     "data": {
      "text/plain": [
       "array([[-3, -1,  7],\n",
       "       [ 1, -1, -1],\n",
       "       [-1,  0,  5]])"
      ]
     },
     "execution_count": 52,
     "metadata": {},
     "output_type": "execute_result"
    }
   ],
   "source": [
    "np.random.randint(-4, 8, size = (3, 3))"
   ]
  },
  {
   "cell_type": "code",
   "execution_count": 53,
   "id": "025ddd14-ef5f-4cd0-8a6a-8aa7294f16aa",
   "metadata": {},
   "outputs": [
    {
     "data": {
      "text/plain": [
       "array([[1., 0., 0.],\n",
       "       [0., 1., 0.],\n",
       "       [0., 0., 1.]])"
      ]
     },
     "execution_count": 53,
     "metadata": {},
     "output_type": "execute_result"
    }
   ],
   "source": [
    "# Identity matrix\n",
    "np.identity(3)"
   ]
  },
  {
   "cell_type": "code",
   "execution_count": 54,
   "id": "c9c02cce-567b-49fe-a7ae-1946c78391de",
   "metadata": {},
   "outputs": [
    {
     "data": {
      "text/plain": [
       "array([[1., 0., 0., 0., 0.],\n",
       "       [0., 1., 0., 0., 0.],\n",
       "       [0., 0., 1., 0., 0.],\n",
       "       [0., 0., 0., 1., 0.],\n",
       "       [0., 0., 0., 0., 1.]])"
      ]
     },
     "execution_count": 54,
     "metadata": {},
     "output_type": "execute_result"
    }
   ],
   "source": [
    "np.identity(5)"
   ]
  },
  {
   "cell_type": "code",
   "execution_count": 55,
   "id": "d11b29f3-6c09-4bce-88b6-59f0ec7fc47f",
   "metadata": {},
   "outputs": [
    {
     "name": "stdout",
     "output_type": "stream",
     "text": [
      "[[1 2 3]\n",
      " [1 2 3]\n",
      " [1 2 3]]\n"
     ]
    }
   ],
   "source": [
    "# Repeat an array\n",
    "arr = np.array([[1, 2, 3]])\n",
    "r1 = np.repeat(arr,3, axis = 0)\n",
    "print(r1)"
   ]
  },
  {
   "cell_type": "code",
   "execution_count": 56,
   "id": "28d3be43-06db-4e15-b7b6-0d6d1eaecf6a",
   "metadata": {},
   "outputs": [
    {
     "name": "stdout",
     "output_type": "stream",
     "text": [
      "[[1. 1. 1. 1. 1.]\n",
      " [1. 1. 1. 1. 1.]\n",
      " [1. 1. 1. 1. 1.]\n",
      " [1. 1. 1. 1. 1.]\n",
      " [1. 1. 1. 1. 1.]]\n",
      "[[0. 0. 0.]\n",
      " [0. 9. 0.]\n",
      " [0. 0. 0.]]\n",
      "[[1. 1. 1. 1. 1.]\n",
      " [1. 0. 0. 0. 1.]\n",
      " [1. 0. 9. 0. 1.]\n",
      " [1. 0. 0. 0. 1.]\n",
      " [1. 1. 1. 1. 1.]]\n"
     ]
    }
   ],
   "source": [
    "output = np.ones((5, 5))\n",
    "print(output)\n",
    "\n",
    "z = np.zeros((3, 3))\n",
    "z[1,1]= 9\n",
    "print(z)\n",
    "\n",
    "output[1:4,1:4] = z\n",
    "print(output)"
   ]
  },
  {
   "cell_type": "markdown",
   "id": "7acc617b-e47d-4649-9ecf-95c5553defbf",
   "metadata": {},
   "source": [
    "### Becareful when copying arrays !!!"
   ]
  },
  {
   "cell_type": "code",
   "execution_count": 57,
   "id": "63133a27-95c1-4c89-8b8e-d38efe3199b6",
   "metadata": {},
   "outputs": [
    {
     "name": "stdout",
     "output_type": "stream",
     "text": [
      "[1 2 3]\n",
      "[100   2   3]\n"
     ]
    }
   ],
   "source": [
    "a = np.array([1, 2, 3])\n",
    "b = a.copy()\n",
    "b[0] = 100\n",
    "\n",
    "print(a)\n",
    "\n",
    "print(b)"
   ]
  },
  {
   "cell_type": "markdown",
   "id": "c0bb0672-705d-4414-b509-a752a5f91d06",
   "metadata": {},
   "source": [
    "### Mathematics"
   ]
  },
  {
   "cell_type": "code",
   "execution_count": 58,
   "id": "72dd9c3f-0044-48b6-88b9-a4303606f0fc",
   "metadata": {},
   "outputs": [
    {
     "name": "stdout",
     "output_type": "stream",
     "text": [
      "[1 2 3 4]\n"
     ]
    }
   ],
   "source": [
    "a = np.array([1, 2, 3, 4])\n",
    "print(a)"
   ]
  },
  {
   "cell_type": "code",
   "execution_count": 59,
   "id": "493899ae-055f-49fe-9cf2-1c9fb14e255a",
   "metadata": {},
   "outputs": [
    {
     "data": {
      "text/plain": [
       "array([3, 4, 5, 6])"
      ]
     },
     "execution_count": 59,
     "metadata": {},
     "output_type": "execute_result"
    }
   ],
   "source": [
    "a + 2"
   ]
  },
  {
   "cell_type": "code",
   "execution_count": 60,
   "id": "b89340b2-3c6b-4b6c-bb81-a0c14eb93415",
   "metadata": {},
   "outputs": [
    {
     "data": {
      "text/plain": [
       "array([-1,  0,  1,  2])"
      ]
     },
     "execution_count": 60,
     "metadata": {},
     "output_type": "execute_result"
    }
   ],
   "source": [
    "a - 2"
   ]
  },
  {
   "cell_type": "code",
   "execution_count": 61,
   "id": "1c4d10c7-e4cf-4328-b82b-bf548e77de66",
   "metadata": {},
   "outputs": [
    {
     "data": {
      "text/plain": [
       "array([2, 4, 6, 8])"
      ]
     },
     "execution_count": 61,
     "metadata": {},
     "output_type": "execute_result"
    }
   ],
   "source": [
    "a * 2"
   ]
  },
  {
   "cell_type": "code",
   "execution_count": 62,
   "id": "b45b5bb7-9ad0-40f3-8c24-cf4b6cfdc6c5",
   "metadata": {},
   "outputs": [
    {
     "data": {
      "text/plain": [
       "array([0.5, 1. , 1.5, 2. ])"
      ]
     },
     "execution_count": 62,
     "metadata": {},
     "output_type": "execute_result"
    }
   ],
   "source": [
    "a / 2"
   ]
  },
  {
   "cell_type": "code",
   "execution_count": 63,
   "id": "0ea2ac46-3ddc-4ea9-b96e-c88f0e526155",
   "metadata": {},
   "outputs": [
    {
     "data": {
      "text/plain": [
       "array([2, 2, 4, 4])"
      ]
     },
     "execution_count": 63,
     "metadata": {},
     "output_type": "execute_result"
    }
   ],
   "source": [
    "b = np.array([1, 0, 1, 0])\n",
    "a + b"
   ]
  },
  {
   "cell_type": "code",
   "execution_count": 64,
   "id": "d23344ff-3efc-4f6b-8861-daec06492557",
   "metadata": {},
   "outputs": [
    {
     "data": {
      "text/plain": [
       "array([1, 1, 3, 1], dtype=int32)"
      ]
     },
     "execution_count": 64,
     "metadata": {},
     "output_type": "execute_result"
    }
   ],
   "source": [
    "a ** b"
   ]
  },
  {
   "cell_type": "code",
   "execution_count": 65,
   "id": "ed4cb091-797f-41cc-9c68-e7a906aceec3",
   "metadata": {},
   "outputs": [
    {
     "data": {
      "text/plain": [
       "array([ 0.84147098,  0.90929743,  0.14112001, -0.7568025 ])"
      ]
     },
     "execution_count": 65,
     "metadata": {},
     "output_type": "execute_result"
    }
   ],
   "source": [
    "# Take the sin\n",
    "np.sin(a)"
   ]
  },
  {
   "cell_type": "code",
   "execution_count": 66,
   "id": "7acb4ad1-d3f2-4868-90b6-0637b3591f32",
   "metadata": {},
   "outputs": [
    {
     "data": {
      "text/plain": [
       "array([ 0.54030231, -0.41614684, -0.9899925 , -0.65364362])"
      ]
     },
     "execution_count": 66,
     "metadata": {},
     "output_type": "execute_result"
    }
   ],
   "source": [
    "np.cos(a)"
   ]
  },
  {
   "cell_type": "code",
   "execution_count": 67,
   "id": "fa94c50f-5366-4c7d-b68b-deb938a636ba",
   "metadata": {},
   "outputs": [],
   "source": [
    "# For more info on numpy; https://docs.scipy.org/doc/numpy/reference/routines.math.html"
   ]
  },
  {
   "cell_type": "markdown",
   "id": "4a0da747-e6ae-4258-93dc-3c6a39811ebf",
   "metadata": {},
   "source": [
    "#### Linear Algebra"
   ]
  },
  {
   "cell_type": "markdown",
   "id": "62891ef4-3f51-48ef-a465-caae768132ed",
   "metadata": {},
   "source": [
    "##### In linear algebra you move by matrix,the columns of the first matrix must\n",
    "##### equal to the second matrix"
   ]
  },
  {
   "cell_type": "code",
   "execution_count": 68,
   "id": "4ab2f204-fa97-4776-bfa7-43e3ef1a4aba",
   "metadata": {},
   "outputs": [
    {
     "name": "stdout",
     "output_type": "stream",
     "text": [
      "[[1. 1. 1.]\n",
      " [1. 1. 1.]]\n",
      "[[2 2]\n",
      " [2 2]\n",
      " [2 2]]\n"
     ]
    },
    {
     "data": {
      "text/plain": [
       "array([[6., 6.],\n",
       "       [6., 6.]])"
      ]
     },
     "execution_count": 68,
     "metadata": {},
     "output_type": "execute_result"
    }
   ],
   "source": [
    "a = np.ones((2, 3))\n",
    "print(a)\n",
    "\n",
    "b = np.full((3, 2),2)\n",
    "print(b)\n",
    "\n",
    "np.matmul(a,b)"
   ]
  },
  {
   "cell_type": "code",
   "execution_count": 69,
   "id": "1d426364-e530-47cb-95fe-12ad5a952338",
   "metadata": {},
   "outputs": [
    {
     "data": {
      "text/plain": [
       "1.0"
      ]
     },
     "execution_count": 69,
     "metadata": {},
     "output_type": "execute_result"
    }
   ],
   "source": [
    "# Find the deteminant\n",
    "c = np.identity(3)\n",
    "np.linalg.det(c)"
   ]
  },
  {
   "cell_type": "code",
   "execution_count": 70,
   "id": "3f40e8c2-eb4c-4ced-95e1-917b2f7e36d7",
   "metadata": {},
   "outputs": [],
   "source": [
    "# Check out the following in the website: https://docs.scipy.org/doc/numpy/reference/routines.math.html\n",
    "# Deteminant\n",
    "# Trace\n",
    "# Singular Vector Decomposition\n",
    "# Eigen values\n",
    "# Matrix Norm\n",
    "# Inverse \n",
    "# Etc\n"
   ]
  },
  {
   "cell_type": "markdown",
   "id": "3c3cafd7-ffc9-415c-9852-d4ae0346e055",
   "metadata": {},
   "source": [
    "#### Statictics"
   ]
  },
  {
   "cell_type": "code",
   "execution_count": 71,
   "id": "f5dd4ddc-e14d-4949-9d09-e119a0d2f0c3",
   "metadata": {},
   "outputs": [
    {
     "data": {
      "text/plain": [
       "array([[1, 2, 3],\n",
       "       [4, 5, 6]])"
      ]
     },
     "execution_count": 71,
     "metadata": {},
     "output_type": "execute_result"
    }
   ],
   "source": [
    "stats = np.array([[1, 2, 3], [4, 5, 6]])\n",
    "stats"
   ]
  },
  {
   "cell_type": "code",
   "execution_count": 72,
   "id": "60b02452-1e6a-435f-9ae3-c8224d3acf1e",
   "metadata": {},
   "outputs": [
    {
     "data": {
      "text/plain": [
       "1"
      ]
     },
     "execution_count": 72,
     "metadata": {},
     "output_type": "execute_result"
    }
   ],
   "source": [
    "np.min(stats)"
   ]
  },
  {
   "cell_type": "code",
   "execution_count": 73,
   "id": "4b9ddbbe-9f2b-497c-ab0b-856a8baf0d10",
   "metadata": {},
   "outputs": [
    {
     "data": {
      "text/plain": [
       "array([1, 2, 3])"
      ]
     },
     "execution_count": 73,
     "metadata": {},
     "output_type": "execute_result"
    }
   ],
   "source": [
    "np.min(stats ,axis = 0 )"
   ]
  },
  {
   "cell_type": "code",
   "execution_count": 74,
   "id": "373170b1-6e60-4e97-bfe2-34d6c4ffcd79",
   "metadata": {},
   "outputs": [
    {
     "data": {
      "text/plain": [
       "array([3, 6])"
      ]
     },
     "execution_count": 74,
     "metadata": {},
     "output_type": "execute_result"
    }
   ],
   "source": [
    "np.max(stats, axis= 1)"
   ]
  },
  {
   "cell_type": "code",
   "execution_count": 75,
   "id": "7ddfc0c4-dda0-4c52-b15a-7ca779e04029",
   "metadata": {},
   "outputs": [
    {
     "data": {
      "text/plain": [
       "21"
      ]
     },
     "execution_count": 75,
     "metadata": {},
     "output_type": "execute_result"
    }
   ],
   "source": [
    "np.sum(stats)"
   ]
  },
  {
   "cell_type": "code",
   "execution_count": 76,
   "id": "af4a89b9-ed4d-407d-a8e5-a85f991535b3",
   "metadata": {},
   "outputs": [
    {
     "data": {
      "text/plain": [
       "array([ 6, 15])"
      ]
     },
     "execution_count": 76,
     "metadata": {},
     "output_type": "execute_result"
    }
   ],
   "source": [
    "np.sum(stats, axis = 1)"
   ]
  },
  {
   "cell_type": "code",
   "execution_count": 77,
   "id": "6a46c9b2-8f24-4623-8955-52d86f01677c",
   "metadata": {},
   "outputs": [
    {
     "data": {
      "text/plain": [
       "array([5, 7, 9])"
      ]
     },
     "execution_count": 77,
     "metadata": {},
     "output_type": "execute_result"
    }
   ],
   "source": [
    "np.sum(stats, axis = 0)"
   ]
  },
  {
   "cell_type": "markdown",
   "id": "1b212f88-92ee-40d5-aae4-2b7e3d50cdcb",
   "metadata": {},
   "source": [
    "#### Re-organizing arrays"
   ]
  },
  {
   "cell_type": "code",
   "execution_count": 78,
   "id": "a1272e76-6f9f-48f0-88ef-67db33481e36",
   "metadata": {},
   "outputs": [
    {
     "name": "stdout",
     "output_type": "stream",
     "text": [
      "[[1 2 3 4]\n",
      " [5 6 7 8]]\n",
      "(2, 4)\n",
      "[[1]\n",
      " [2]\n",
      " [3]\n",
      " [4]\n",
      " [5]\n",
      " [6]\n",
      " [7]\n",
      " [8]]\n",
      "[[1 2]\n",
      " [3 4]\n",
      " [5 6]\n",
      " [7 8]]\n"
     ]
    }
   ],
   "source": [
    "before =np.array([[1, 2, 3, 4],[ 5, 6, 7, 8]])\n",
    "print(before)\n",
    "\n",
    "print(before.shape)\n",
    "\n",
    "after = before.reshape(( 8, 1))\n",
    "print(after)\n",
    "\n",
    "after = before.reshape(( 4, 2))\n",
    "print(after)\n"
   ]
  },
  {
   "cell_type": "code",
   "execution_count": 79,
   "id": "6f445066-dcf5-4c48-8485-600bcbe6291f",
   "metadata": {},
   "outputs": [
    {
     "data": {
      "text/plain": [
       "array([[1, 2, 3, 4],\n",
       "       [5, 6, 7, 8]])"
      ]
     },
     "execution_count": 79,
     "metadata": {},
     "output_type": "execute_result"
    }
   ],
   "source": [
    "#Vertically stacking vectors\n",
    "v1 = np.array([1, 2, 3, 4])\n",
    "v2 = np.array([5, 6, 7, 8])\n",
    "\n",
    "np.vstack([v1,v2])"
   ]
  },
  {
   "cell_type": "code",
   "execution_count": 80,
   "id": "a6f19c23-eb32-436c-b7a7-ddfbd82ba521",
   "metadata": {},
   "outputs": [
    {
     "data": {
      "text/plain": [
       "array([[1., 1., 1., 1., 0., 0.],\n",
       "       [1., 1., 1., 1., 0., 0.]])"
      ]
     },
     "execution_count": 80,
     "metadata": {},
     "output_type": "execute_result"
    }
   ],
   "source": [
    "# Horizontal stack\n",
    "h1 = np.ones([2, 4])\n",
    "h2 = np.zeros([2, 2])\n",
    "\n",
    "np.hstack([h1,h2])"
   ]
  },
  {
   "cell_type": "markdown",
   "id": "02dc5ebd-b0e8-433c-bf89-5765913d8acc",
   "metadata": {},
   "source": [
    "#### Miscellaneous \n",
    "\n",
    "##### Load data from files"
   ]
  },
  {
   "cell_type": "markdown",
   "id": "303c56cb-7c22-438a-ab46-928dc1cab868",
   "metadata": {},
   "source": [
    "##### When you dont want to use pandas but you want to load data into a numpy array."
   ]
  },
  {
   "cell_type": "code",
   "execution_count": 81,
   "id": "79f0090f-f27e-4f87-b5bc-5d35b2aabf22",
   "metadata": {},
   "outputs": [],
   "source": [
    "import numpy as np"
   ]
  },
  {
   "cell_type": "code",
   "execution_count": 82,
   "id": "c82c0fb2-4670-473b-9390-718fba48f165",
   "metadata": {},
   "outputs": [
    {
     "data": {
      "text/plain": [
       "array([[  1.,  13.,  21.,  11., 196.,  75.,   4.,   3.,  34.,   6.,   7.,\n",
       "          8.,   0.,   1.,   2.,   3.,   4.,   5.],\n",
       "       [  3.,  42.,  12.,  33., 766.,  75.,   4.,  55.,   6.,   4.,   3.,\n",
       "          4.,   5.,   6.,   7.,   0.,  11.,  12.],\n",
       "       [  1.,  22.,  33.,  11., 999.,  11.,   2.,   1.,  78.,   0.,   1.,\n",
       "          2.,   9.,   8.,   7.,   1.,  76.,  88.]])"
      ]
     },
     "execution_count": 82,
     "metadata": {},
     "output_type": "execute_result"
    }
   ],
   "source": [
    "filedata = np.genfromtxt('C:\\\\Users\\\\user\\\\Desktop\\\\data.txt', delimiter=',')\n",
    "filedata"
   ]
  },
  {
   "cell_type": "code",
   "execution_count": 83,
   "id": "15aea93d-384f-43ae-b9fb-94ea012488d1",
   "metadata": {},
   "outputs": [
    {
     "name": "stdout",
     "output_type": "stream",
     "text": [
      "[10 12 14 16 18 20 22 24 26 28 30 32 34 36 38 40 42 44 46 48]\n"
     ]
    }
   ],
   "source": [
    "f = np.arange(10, 50, 2)\n",
    "print(f)"
   ]
  },
  {
   "cell_type": "code",
   "execution_count": 84,
   "id": "9a139748-2ad4-49b7-a1a3-226a894ab974",
   "metadata": {},
   "outputs": [
    {
     "data": {
      "text/plain": [
       "array([0.        , 0.14285714, 0.28571429, 0.42857143, 0.57142857,\n",
       "       0.71428571, 0.85714286, 1.        , 1.14285714, 1.28571429,\n",
       "       1.42857143, 1.57142857, 1.71428571, 1.85714286, 2.        ])"
      ]
     },
     "execution_count": 84,
     "metadata": {},
     "output_type": "execute_result"
    }
   ],
   "source": [
    "np.linspace(0, 2, 15)"
   ]
  },
  {
   "cell_type": "code",
   "execution_count": 85,
   "id": "38948b73-8c85-4c95-9e8e-d5f869c71b4d",
   "metadata": {},
   "outputs": [
    {
     "name": "stdout",
     "output_type": "stream",
     "text": [
      "[ 9 18 27 36]\n",
      "[ 10  40  90 160]\n"
     ]
    }
   ],
   "source": [
    "a = np.array([10, 20, 30, 40])\n",
    "b = np.array([1, 2, 3, 4])\n",
    "\n",
    "c = a-b\n",
    "print(c)\n",
    "\n",
    "d = a*b\n",
    "print(d)\n",
    "\n"
   ]
  },
  {
   "cell_type": "code",
   "execution_count": 86,
   "id": "0e087596-86c0-4a6f-94dc-a2ed95dc0967",
   "metadata": {},
   "outputs": [
    {
     "data": {
      "text/plain": [
       "array([-17.22222222, -22.77777778, -20.        , -25.55555556,\n",
       "       -17.22222222])"
      ]
     },
     "execution_count": 86,
     "metadata": {},
     "output_type": "execute_result"
    }
   ],
   "source": [
    "# With arithmatic manipulation, we can convert current data to the way we want it to be. Here is a real world problem that i faced\n",
    "# i moved down to the united states about six years ago from canada. In canada we use calcius for temperature and my wife still hasn't\n",
    "# converted to the Us system which uses farenheit.With Numpy i could easily convert a number of farenheit values\n",
    "# say the weather forecast to celcius\n",
    "\n",
    "# Lets create an array of typican Ann Arbor winter farenheit values\n",
    "\n",
    "farenheit = np.array([0, -10, -5, -15, 0])\n",
    "# And the formula for conversion is ((f - 32) * 5/9 = c)\n",
    "\n",
    "celcius = (farenheit - 31) * ( 5/9 )\n",
    "celcius"
   ]
  },
  {
   "cell_type": "code",
   "execution_count": 87,
   "id": "6cd7e69a-7bf6-4b84-aba8-480f202856d6",
   "metadata": {},
   "outputs": [],
   "source": [
    "# Now she knows that it is a little chilly outside but not so bad."
   ]
  },
  {
   "cell_type": "code",
   "execution_count": 88,
   "id": "3b9ec3cf-9367-47b0-8e35-a452f8647430",
   "metadata": {},
   "outputs": [],
   "source": [
    "# Another useful and important manipulation is the boolean array, we can apply an operator on an array \n",
    "# and a bolean array will be returned for an element in the original with True being emmited if it meets\n",
    "# the condition, for instance, if we want to get the boolean array to get celcius degree that are greater \n",
    "# than -20 degrees (>-20)"
   ]
  },
  {
   "cell_type": "code",
   "execution_count": 89,
   "id": "1f716cb9-56b0-43c3-8687-5ed391610deb",
   "metadata": {},
   "outputs": [
    {
     "data": {
      "text/plain": [
       "array([ True, False, False, False,  True])"
      ]
     },
     "execution_count": 89,
     "metadata": {},
     "output_type": "execute_result"
    }
   ],
   "source": [
    "celcius>-20"
   ]
  },
  {
   "cell_type": "code",
   "execution_count": 90,
   "id": "a899030c-676e-4400-95cf-ffa9ccf88de2",
   "metadata": {},
   "outputs": [],
   "source": [
    "# Another example, we could use the modulus operator to check numbers in an array to see if they are even."
   ]
  },
  {
   "cell_type": "code",
   "execution_count": 91,
   "id": "5faafd11-bbf7-4b05-9601-955ff6bec1df",
   "metadata": {},
   "outputs": [
    {
     "data": {
      "text/plain": [
       "array([False, False,  True, False, False])"
      ]
     },
     "execution_count": 91,
     "metadata": {},
     "output_type": "execute_result"
    }
   ],
   "source": [
    "celcius % 2 == 0"
   ]
  },
  {
   "cell_type": "code",
   "execution_count": 92,
   "id": "1c8b58da-ef5c-427c-9801-eac462f6b02a",
   "metadata": {},
   "outputs": [],
   "source": [
    "# Besides elementwise manipulation,it is important to know tha numpy supports matrix manipulation\n",
    "# Lets look at matrix product we use the elementwise we use the \"*\" sign"
   ]
  },
  {
   "cell_type": "code",
   "execution_count": 93,
   "id": "1f221025-9637-444e-9683-0eb6bea986e2",
   "metadata": {},
   "outputs": [
    {
     "name": "stdout",
     "output_type": "stream",
     "text": [
      "[[2 0]\n",
      " [0 4]]\n",
      "[[5 4]\n",
      " [3 4]]\n"
     ]
    }
   ],
   "source": [
    "A = np.array([[1,1],[0,1]])\n",
    "B = np.array([[2,0],[3,4]])\n",
    "print(A*B)\n",
    "\n",
    "# If we want to do the matrix product we use the @ sign or Dot sign\n",
    "\n",
    "print(A@B)"
   ]
  },
  {
   "cell_type": "code",
   "execution_count": 94,
   "id": "2f4bc80e-7535-4fae-80aa-0216ceebd336",
   "metadata": {},
   "outputs": [],
   "source": [
    "# You dont have to worry about complex matrix operation for this course,but is important to know that \n",
    "# Numpy is the underpinning of scientific computing libaries in python and that it is capable of doing \n",
    "# both elementwise operations the (asterix) as well as matrix level operation the (@ sign)\n",
    "# there is more to this in a subsequent course."
   ]
  },
  {
   "cell_type": "code",
   "execution_count": 95,
   "id": "87040bf6-7ede-4739-8014-4706e32dc289",
   "metadata": {},
   "outputs": [
    {
     "data": {
      "text/plain": [
       "(2, 2)"
      ]
     },
     "execution_count": 95,
     "metadata": {},
     "output_type": "execute_result"
    }
   ],
   "source": [
    "# A few more algebra concept are worth layering in here, you might recall that the product of two matrixes\n",
    "# is only plauseable when the inner dimension of the two matixes are thesame.The dimension refers to the number\n",
    "# of elements both horizontally and vertically in the rendered matrixes you have seen here.\n",
    "# we can use numpy to quickly see the shape of a matrix.\n",
    "\n",
    "A.shape"
   ]
  },
  {
   "cell_type": "code",
   "execution_count": 96,
   "id": "5d11c752-b9bf-484c-b387-e12d892aaca1",
   "metadata": {},
   "outputs": [],
   "source": [
    "# when manipulating arrays of different types, the type of the resulting array will corespond to the \n",
    "# more general of the two types, this is called Upcasting"
   ]
  },
  {
   "cell_type": "code",
   "execution_count": 97,
   "id": "23917b1a-59bb-4bc7-a921-f1e8cc1161f4",
   "metadata": {},
   "outputs": [
    {
     "name": "stdout",
     "output_type": "stream",
     "text": [
      "int32\n",
      "float64\n"
     ]
    }
   ],
   "source": [
    "# Lets create an array of integers\n",
    "\n",
    "array1 = np.array([[1, 2, 3], [4,5,6]])\n",
    "print(array1.dtype)\n",
    "\n",
    "# Now lets create an array of float\n",
    "\n",
    "array2 = np.array([[7.1, 8.2, 9.1], [10.4, 11.2,12.3]])\n",
    "print(array2.dtype)"
   ]
  },
  {
   "cell_type": "code",
   "execution_count": 98,
   "id": "38ffa061-176c-41d5-bcb0-09aa4cc19e6f",
   "metadata": {},
   "outputs": [],
   "source": [
    "# Integers are whole numbers only and floating point numbers (float) can have a whole number portion\n",
    "#and a decimal portion. The 64 in this example refers to the number of bits that the operating system \n",
    "# is reserving to represent the number which detemines the size or (precission) of the number that can\n",
    "# be represented."
   ]
  },
  {
   "cell_type": "code",
   "execution_count": 99,
   "id": "29f572ce-0781-4ab4-8924-923da859a65f",
   "metadata": {},
   "outputs": [
    {
     "name": "stdout",
     "output_type": "stream",
     "text": [
      "[[ 8.1 10.2 12.1]\n",
      " [14.4 16.2 18.3]]\n",
      "float64\n"
     ]
    }
   ],
   "source": [
    "# Lets do an addition for the two arrays\n",
    "array3 = array1 + array2\n",
    "print (array3)\n",
    "\n",
    "print(array3.dtype)"
   ]
  },
  {
   "cell_type": "code",
   "execution_count": 100,
   "id": "8606445b-471e-41c7-aac3-663d92698489",
   "metadata": {},
   "outputs": [],
   "source": [
    "# Notice how the items in the resulting array has been upcast into floating point numbers"
   ]
  },
  {
   "cell_type": "code",
   "execution_count": 101,
   "id": "8795c21c-e806-40f5-8158-7f1da4c7bfd6",
   "metadata": {},
   "outputs": [],
   "source": [
    "# Numpy arrays have  many interesting aggregation function on them such as sum(),max(),min(),mean() "
   ]
  },
  {
   "cell_type": "code",
   "execution_count": 102,
   "id": "541c2a79-b8c5-4e9e-abb3-151032af8186",
   "metadata": {},
   "outputs": [
    {
     "name": "stdout",
     "output_type": "stream",
     "text": [
      "79.3\n",
      "18.3\n",
      "8.1\n",
      "13.216666666666667\n"
     ]
    }
   ],
   "source": [
    "print(array3.sum())\n",
    "print(array3.max())\n",
    "print(array3.min())\n",
    "print(array3.mean())\n"
   ]
  },
  {
   "cell_type": "code",
   "execution_count": 103,
   "id": "0de9e468-d3d3-4891-8201-1695b434bd69",
   "metadata": {},
   "outputs": [
    {
     "name": "stdout",
     "output_type": "stream",
     "text": [
      "[[ 1  2  3  4  5]\n",
      " [ 6  7  8  9 10]\n",
      " [11 12 13 14 15]]\n"
     ]
    }
   ],
   "source": [
    "# For two dimensional array we can do thesame thing for each row and column\n",
    "# Lets create an array ranging from 1 to 15\n",
    "# with a dimension of 3x5\n",
    "\n",
    "b = np.arange(1,16,1).reshape(3,5)\n",
    "print(b)"
   ]
  },
  {
   "cell_type": "code",
   "execution_count": 104,
   "id": "4f48586d-9dd8-4af5-b847-fd9cda0827b9",
   "metadata": {},
   "outputs": [],
   "source": [
    "# We often think of two dimensional array been made up of rows and columns, but you can also think of \n",
    "# this array as just a giant ordered list of numbers and the *shape* of the array . The number of \n",
    "# rows and column is just an abstraction that we have for a particular purpose. Actually,this is \n",
    "# exactly how basic images are scored in computer environments.\n",
    "# Lets take a look at an example and see how numpy comes into play"
   ]
  },
  {
   "cell_type": "code",
   "execution_count": 105,
   "id": "b130184c-d5f9-4621-85a5-246ff7f5a472",
   "metadata": {},
   "outputs": [
    {
     "data": {
      "image/png": "[encoded data removed]",
      "text/plain": [
       "<PIL.TiffImagePlugin.TiffImageFile image mode=L size=200x200 at 0x29470E19E80>"
      ]
     },
     "metadata": {},
     "output_type": "display_data"
    }
   ],
   "source": [
    "# For this demonstration, we will use the python imaging library PIL and a function to displat images\n",
    "# in the Jupiter notebook\n",
    "\n",
    "from PIL import Image\n",
    "from IPython.display import display\n",
    "\n",
    "# lets take a look at the image\n",
    "\n",
    "im = Image.open('C:\\\\Users\\\\user\\\\Desktop\\\\python files\\\\chris.tiff')\n",
    "\n",
    "display(im)"
   ]
  },
  {
   "cell_type": "code",
   "execution_count": null,
   "id": "c4e18d2e-41a5-4a4b-8cd7-71554f4f665e",
   "metadata": {},
   "outputs": [],
   "source": []
  },
  {
   "cell_type": "code",
   "execution_count": 106,
   "id": "fda80a8d-9170-4aa6-af2c-8fcaa5f05b78",
   "metadata": {},
   "outputs": [
    {
     "name": "stdout",
     "output_type": "stream",
     "text": [
      "(200, 200)\n"
     ]
    },
    {
     "data": {
      "text/plain": [
       "array([[118, 117, 118, ..., 103, 107, 110],\n",
       "       [113, 113, 113, ..., 100, 103, 106],\n",
       "       [108, 108, 107, ...,  95,  98, 102],\n",
       "       ...,\n",
       "       [177, 181, 182, ..., 193, 198, 192],\n",
       "       [178, 182, 183, ..., 193, 201, 189],\n",
       "       [178, 182, 184, ..., 193, 201, 187]], dtype=uint8)"
      ]
     },
     "execution_count": 106,
     "metadata": {},
     "output_type": "execute_result"
    }
   ],
   "source": [
    "array = np.array(im)\n",
    "print(array.shape)\n",
    "array"
   ]
  },
  {
   "cell_type": "code",
   "execution_count": 107,
   "id": "4b19c33d-6e08-4aca-bce1-b4e9aca6ccba",
   "metadata": {},
   "outputs": [
    {
     "data": {
      "text/plain": [
       "array([[255, 255, 255, ..., 255, 255, 255],\n",
       "       [255, 255, 255, ..., 255, 255, 255],\n",
       "       [255, 255, 255, ..., 255, 255, 255],\n",
       "       ...,\n",
       "       [255, 255, 255, ..., 255, 255, 255],\n",
       "       [255, 255, 255, ..., 255, 255, 255],\n",
       "       [255, 255, 255, ..., 255, 255, 255]])"
      ]
     },
     "execution_count": 107,
     "metadata": {},
     "output_type": "execute_result"
    }
   ],
   "source": [
    "mask=np.full(array.shape,255)\n",
    "mask"
   ]
  },
  {
   "cell_type": "code",
   "execution_count": 108,
   "id": "b6e4fb21-7e0d-414c-9bb4-93b3eb05c7a8",
   "metadata": {},
   "outputs": [
    {
     "data": {
      "text/plain": [
       "array([[137, 138, 137, ..., 152, 148, 145],\n",
       "       [142, 142, 142, ..., 155, 152, 149],\n",
       "       [147, 147, 148, ..., 160, 157, 153],\n",
       "       ...,\n",
       "       [ 78,  74,  73, ...,  62,  57,  63],\n",
       "       [ 77,  73,  72, ...,  62,  54,  66],\n",
       "       [ 77,  73,  71, ...,  62,  54,  68]], dtype=uint8)"
      ]
     },
     "execution_count": 108,
     "metadata": {},
     "output_type": "execute_result"
    }
   ],
   "source": [
    "modified_array=array-mask\n",
    "modified_array=modified_array*-1\n",
    "modified_array=modified_array.astype(np.uint8)\n",
    "modified_array"
   ]
  },
  {
   "cell_type": "code",
   "execution_count": 109,
   "id": "8699fd2e-a887-420b-b35f-b4199fffb9da",
   "metadata": {},
   "outputs": [
    {
     "data": {
      "image/png": "[encoded data removed]",
      "text/plain": [
       "<PIL.Image.Image image mode=L size=200x200 at 0x294715FDB80>"
      ]
     },
     "metadata": {},
     "output_type": "display_data"
    }
   ],
   "source": [
    "display(Image.fromarray(modified_array))"
   ]
  },
  {
   "cell_type": "code",
   "execution_count": 4,
   "id": "960d79f8-e2f2-4f10-87dd-e8553bebdb27",
   "metadata": {},
   "outputs": [
    {
     "ename": "NameError",
     "evalue": "name 'np' is not defined",
     "output_type": "error",
     "traceback": [
      "\u001b[1;31m---------------------------------------------------------------------------\u001b[0m",
      "\u001b[1;31mNameError\u001b[0m                                 Traceback (most recent call last)",
      "\u001b[1;32m~\\AppData\\Local\\Temp/ipykernel_14052/900728753.py\u001b[0m in \u001b[0;36m<module>\u001b[1;34m\u001b[0m\n\u001b[1;32m----> 1\u001b[1;33m \u001b[0mreshaped\u001b[0m\u001b[1;33m=\u001b[0m\u001b[0mnp\u001b[0m\u001b[1;33m.\u001b[0m\u001b[0mreshape\u001b[0m\u001b[1;33m(\u001b[0m\u001b[0mmodified_array\u001b[0m\u001b[1;33m,\u001b[0m\u001b[1;33m(\u001b[0m\u001b[1;36m200\u001b[0m\u001b[1;33m,\u001b[0m\u001b[1;36m3\u001b[0m\u001b[1;33m)\u001b[0m\u001b[1;33m)\u001b[0m\u001b[1;33m\u001b[0m\u001b[1;33m\u001b[0m\u001b[0m\n\u001b[0m\u001b[0;32m      2\u001b[0m \u001b[0mprint\u001b[0m\u001b[1;33m(\u001b[0m\u001b[0mreshaped\u001b[0m\u001b[1;33m.\u001b[0m\u001b[0mshape\u001b[0m\u001b[1;33m)\u001b[0m\u001b[1;33m\u001b[0m\u001b[1;33m\u001b[0m\u001b[0m\n\u001b[0;32m      3\u001b[0m \u001b[0mdisplay\u001b[0m\u001b[1;33m(\u001b[0m\u001b[0mImage\u001b[0m\u001b[1;33m.\u001b[0m\u001b[0mfromarray\u001b[0m\u001b[1;33m(\u001b[0m\u001b[0mreshaped\u001b[0m\u001b[1;33m)\u001b[0m\u001b[1;33m)\u001b[0m\u001b[1;33m\u001b[0m\u001b[1;33m\u001b[0m\u001b[0m\n",
      "\u001b[1;31mNameError\u001b[0m: name 'np' is not defined"
     ]
    }
   ],
   "source": [
    "reshaped=np.reshape(modified_array,(200,3))\n",
    "print(reshaped.shape)\n",
    "display(Image.fromarray(reshaped))"
   ]
  },
  {
   "cell_type": "code",
   "execution_count": null,
   "id": "e336a7fa-c193-40f0-9970-34db13c61c95",
   "metadata": {},
   "outputs": [],
   "source": [
    "a = np.array([1,3,5,7])\n",
    "a[2]"
   ]
  },
  {
   "cell_type": "code",
   "execution_count": null,
   "id": "d6743861-336f-455a-9db9-9a2ae8c4cc04",
   "metadata": {},
   "outputs": [],
   "source": [
    "a = np.array([[1,2], [3, 4], [5, 6]])\n",
    "a         "
   ]
  },
  {
   "cell_type": "code",
   "execution_count": null,
   "id": "96ea7316-4f88-4774-8821-dcd9fa12f024",
   "metadata": {},
   "outputs": [],
   "source": [
    "a[1,1]"
   ]
  },
  {
   "cell_type": "code",
   "execution_count": null,
   "id": "f21ee1cf-3fdd-478e-b4af-1ac4e8539ee1",
   "metadata": {},
   "outputs": [],
   "source": [
    "np.array([a[0, 0], a[1,1],a[2, 1]]) # to get multiple element"
   ]
  },
  {
   "cell_type": "code",
   "execution_count": null,
   "id": "cd4cac7c-6d59-4fc3-ad68-f9db47357067",
   "metadata": {},
   "outputs": [],
   "source": [
    "print(a[[0,1,2], [0,1,1,]])   (zip array)"
   ]
  },
  {
   "cell_type": "code",
   "execution_count": null,
   "id": "3947c5be-6885-4e62-8ffa-93c789d97302",
   "metadata": {},
   "outputs": [],
   "source": [
    "INDEXING ABOVE"
   ]
  },
  {
   "cell_type": "code",
   "execution_count": null,
   "id": "b0c687a3-a64f-488e-aa65-e7ab2f01a81f",
   "metadata": {},
   "outputs": [],
   "source": [
    "# boolean"
   ]
  },
  {
   "cell_type": "code",
   "execution_count": null,
   "id": "e3c51010-af66-45e8-acfd-e7d9f8547f53",
   "metadata": {},
   "outputs": [],
   "source": [
    "print(a>5)"
   ]
  },
  {
   "cell_type": "code",
   "execution_count": null,
   "id": "0ca59ae9-cdf3-4e6b-8c65-b0b085e167fe",
   "metadata": {},
   "outputs": [],
   "source": [
    "print(a[a>5])"
   ]
  },
  {
   "cell_type": "code",
   "execution_count": null,
   "id": "3db0850d-5084-4a37-a85a-eb018ead75c2",
   "metadata": {},
   "outputs": [],
   "source": [
    "SLICING"
   ]
  },
  {
   "cell_type": "code",
   "execution_count": null,
   "id": "27de03ae-960b-4060-82cf-08b0b1abd645",
   "metadata": {},
   "outputs": [],
   "source": [
    "a = np.array([0,1,2,3,4,5])\n",
    "print(a[:3])"
   ]
  },
  {
   "cell_type": "code",
   "execution_count": null,
   "id": "a471a97e-93e2-4b12-995d-f83f9c523d37",
   "metadata": {},
   "outputs": [],
   "source": [
    "print(a[2:4])"
   ]
  },
  {
   "cell_type": "code",
   "execution_count": null,
   "id": "2afb8cf7-37a6-4e59-9af1-e77bb913a9e3",
   "metadata": {},
   "outputs": [],
   "source": [
    "a = np.array([[1,2,3,4],[5,6,7,8],[9,10,11,12]])\n",
    "print(a)"
   ]
  },
  {
   "cell_type": "code",
   "execution_count": null,
   "id": "2aa275d0-fea9-4bbb-9cf9-3dcccd8fe699",
   "metadata": {},
   "outputs": [],
   "source": [
    "#multi dimentional array \n",
    "\n",
    "a=np.array"
   ]
  },
  {
   "cell_type": "code",
   "execution_count": null,
   "id": "ec8ba63c-3fc7-48fa-ad65-9cde337d80c4",
   "metadata": {},
   "outputs": [],
   "source": [
    "a[:2]"
   ]
  },
  {
   "cell_type": "code",
   "execution_count": null,
   "id": "35a1b380-a952-4b2c-97fb-89d321429a6c",
   "metadata": {},
   "outputs": [],
   "source": [
    "a[:2,1:3]"
   ]
  },
  {
   "cell_type": "code",
   "execution_count": null,
   "id": "855d7ce0-a29d-4cfe-93ff-ecabcdbf22c6",
   "metadata": {},
   "outputs": [],
   "source": [
    "sub_array = a[:2, 1:3]\n",
    "print(\"sub array index [0,0] value before change:\" ,sub_array[0,0])\n",
    "sub_array[0,0] = 50\n",
    "print(\"sub array index [0,0] value after change:\" ,sub_array[0,0])\n",
    "print(\"original array index [0,1] value after change:\" ,a[0,1])"
   ]
  },
  {
   "cell_type": "code",
   "execution_count": null,
   "id": "3a0c163a-b378-43d0-b4b8-9f0397eb2798",
   "metadata": {},
   "outputs": [],
   "source": [
    "# trying numpy with data base"
   ]
  },
  {
   "cell_type": "code",
   "execution_count": null,
   "id": "905e6414-c381-420d-80d9-d176fd62831c",
   "metadata": {},
   "outputs": [],
   "source": [
    "import numpy as np\n",
    "wines = np.genfromtxt(\"C:\\\\Users\\\\user\\\\Desktop\\\\python files\\\\python files\\\\winequality-red.csv\",delimiter=\";\",skip_header=1)\n",
    "wines"
   ]
  },
  {
   "cell_type": "code",
   "execution_count": null,
   "id": "de052e03-cede-4a9b-b0fd-52e4db8d81e8",
   "metadata": {},
   "outputs": [],
   "source": [
    "print([[\"one integer 0 for slicing:\" ,wines]:,0])\n",
    "\n",
    "print([\"0 to 1 for slicing:\\n\" ,wines[:,0;]])"
   ]
  },
  {
   "cell_type": "code",
   "execution_count": null,
   "id": "eb08cc1c-8b36-4c76-835a-a33650018c38",
   "metadata": {},
   "outputs": [],
   "source": []
  },
  {
   "cell_type": "code",
   "execution_count": null,
   "id": "e4f73d83-39aa-4210-863e-a2905a827334",
   "metadata": {},
   "outputs": [],
   "source": [
    "wines[:,0:3]"
   ]
  },
  {
   "cell_type": "code",
   "execution_count": null,
   "id": "d001fd32-c692-4962-96b3-ca40f8dc622d",
   "metadata": {},
   "outputs": [],
   "source": [
    "wines[:,[0,2.4]"
   ]
  },
  {
   "cell_type": "code",
   "execution_count": null,
   "id": "87692654-b7a6-447f-a4a2-afcfbc19138d",
   "metadata": {},
   "outputs": [],
   "source": [
    "import numpy as np"
   ]
  },
  {
   "cell_type": "code",
   "execution_count": null,
   "id": "04272c63-de44-49f9-8ced-8a064bd2eb38",
   "metadata": {},
   "outputs": [],
   "source": [
    "#the basics"
   ]
  },
  {
   "cell_type": "code",
   "execution_count": null,
   "id": "36e17563-7e91-4ae4-b2b0-1296e589a91d",
   "metadata": {},
   "outputs": [],
   "source": [
    "a = np.array([1,2,3])\n",
    "print(a)"
   ]
  },
  {
   "cell_type": "code",
   "execution_count": null,
   "id": "8951f01f-27b7-4eec-9454-f18413711b55",
   "metadata": {},
   "outputs": [],
   "source": [
    "b = np.array([[9.0,8.0,7.0],[6.0,5.0,4.0]])\n",
    "print(b)"
   ]
  },
  {
   "cell_type": "code",
   "execution_count": null,
   "id": "a785fa34-dfb3-4cb3-bc1b-1f1bbcddb7e4",
   "metadata": {},
   "outputs": [],
   "source": [
    "ll zeros matrix#a"
   ]
  },
  {
   "cell_type": "code",
   "execution_count": null,
   "id": "95431920-1e5f-428d-b9e0-c46080f1aa07",
   "metadata": {},
   "outputs": [],
   "source": [
    "np.zeros((2,3))"
   ]
  },
  {
   "cell_type": "code",
   "execution_count": null,
   "id": "c5e81206-76e2-48ba-a5c9-a12038c68574",
   "metadata": {},
   "outputs": [],
   "source": [
    "#All ones matix"
   ]
  },
  {
   "cell_type": "code",
   "execution_count": null,
   "id": "e3192186-bf4f-4081-ab82-ec58106abe7b",
   "metadata": {},
   "outputs": [],
   "source": [
    "np.ones((4,2,2),dtype='int32')"
   ]
  },
  {
   "cell_type": "code",
   "execution_count": null,
   "id": "7d3f9a0a-fca0-4920-87a6-29969cf0ebe9",
   "metadata": {},
   "outputs": [],
   "source": [
    "#Any other number"
   ]
  },
  {
   "cell_type": "code",
   "execution_count": null,
   "id": "47532ec1-f02b-4b4f-b706-27d751b906da",
   "metadata": {},
   "outputs": [],
   "source": [
    "np.full((2,2), 99)"
   ]
  },
  {
   "cell_type": "code",
   "execution_count": null,
   "id": "6515acb0-540b-4f29-8ed5-518278d84e23",
   "metadata": {},
   "outputs": [],
   "source": [
    "#Get dimension"
   ]
  },
  {
   "cell_type": "code",
   "execution_count": null,
   "id": "609fafd0-cdac-43a4-9cc3-607291ed7d73",
   "metadata": {},
   "outputs": [],
   "source": [
    "a.ndim"
   ]
  },
  {
   "cell_type": "code",
   "execution_count": null,
   "id": "e365c5e5-4391-48ea-a923-175eb6deb082",
   "metadata": {},
   "outputs": [],
   "source": [
    "#Get shape"
   ]
  },
  {
   "cell_type": "code",
   "execution_count": null,
   "id": "a027f59b-ea9f-4a00-8d15-0541ac54a142",
   "metadata": {},
   "outputs": [],
   "source": [
    "b.shape"
   ]
  },
  {
   "cell_type": "code",
   "execution_count": null,
   "id": "3215b74a-6c74-4784-be10-71a9a0f3ee29",
   "metadata": {},
   "outputs": [],
   "source": [
    "#Get type"
   ]
  },
  {
   "cell_type": "code",
   "execution_count": null,
   "id": "17fd0889-0848-4a6b-bc13-bcdc26f35dc7",
   "metadata": {},
   "outputs": [],
   "source": [
    "a.dtype"
   ]
  },
  {
   "cell_type": "code",
   "execution_count": null,
   "id": "a9597ebc-ce3f-4cdc-8279-94bd2d9ecfa6",
   "metadata": {},
   "outputs": [],
   "source": [
    "#Get size"
   ]
  },
  {
   "cell_type": "code",
   "execution_count": null,
   "id": "b0d6b501-9bff-46ef-bb81-909d61c27e32",
   "metadata": {},
   "outputs": [],
   "source": [
    "a.itemsize"
   ]
  },
  {
   "cell_type": "code",
   "execution_count": null,
   "id": "c5af3864-0ed2-4892-beab-1687f5bcb58f",
   "metadata": {},
   "outputs": [],
   "source": [
    "#Get total size"
   ]
  },
  {
   "cell_type": "code",
   "execution_count": null,
   "id": "9d68878d-39fd-4e18-81f4-443e12600e39",
   "metadata": {},
   "outputs": [],
   "source": [
    "a.size"
   ]
  },
  {
   "cell_type": "code",
   "execution_count": null,
   "id": "8f528fee-ca96-4cb5-bd18-a7bf67bb9b73",
   "metadata": {},
   "outputs": [],
   "source": [
    "a.size*a.itemsize"
   ]
  },
  {
   "cell_type": "code",
   "execution_count": null,
   "id": "ac4796d6-5bc5-49a7-965c-8b67812b85cb",
   "metadata": {},
   "outputs": [],
   "source": [
    "a.nbytes"
   ]
  },
  {
   "cell_type": "code",
   "execution_count": null,
   "id": "d6766900-5624-41c7-84c5-4a6097a96e1a",
   "metadata": {},
   "outputs": [],
   "source": [
    "b.itemsize"
   ]
  },
  {
   "cell_type": "code",
   "execution_count": null,
   "id": "8f230f32-d46c-4c52-8ae2-c9cc34b686d0",
   "metadata": {},
   "outputs": [],
   "source": [
    "#Accessing /changing specific elements,rows,columns."
   ]
  },
  {
   "cell_type": "code",
   "execution_count": null,
   "id": "6811e6d9-dc19-4827-8dcd-40c6ea4f69f8",
   "metadata": {},
   "outputs": [],
   "source": [
    "a = np.array([[1,2,3,4,5,6,7],[8,9,10,11,12,13,14]])\n",
    "print(a)"
   ]
  },
  {
   "cell_type": "code",
   "execution_count": null,
   "id": "9d8a89c9-5a01-45b8-9e03-aaa87085dee5",
   "metadata": {},
   "outputs": [],
   "source": [
    "#get a specific element r,c"
   ]
  },
  {
   "cell_type": "code",
   "execution_count": null,
   "id": "6d31c679-d3d3-49ff-91ca-d7eefbfd7d22",
   "metadata": {},
   "outputs": [],
   "source": [
    "a[1,5]"
   ]
  },
  {
   "cell_type": "code",
   "execution_count": null,
   "id": "1452b135-ef29-45c5-bff5-39c472b368a4",
   "metadata": {},
   "outputs": [],
   "source": [
    "#get a specific row"
   ]
  },
  {
   "cell_type": "code",
   "execution_count": null,
   "id": "8e883b1e-4c95-46a0-a5c0-343ecb073b56",
   "metadata": {},
   "outputs": [],
   "source": [
    "a[0, :]"
   ]
  },
  {
   "cell_type": "code",
   "execution_count": null,
   "id": "a2026189-a2e7-4602-8936-db5e70b39d9e",
   "metadata": {},
   "outputs": [],
   "source": [
    "a[1,:]"
   ]
  },
  {
   "cell_type": "code",
   "execution_count": null,
   "id": "b5785afc-1cec-4af1-8b7d-c6457b488b94",
   "metadata": {},
   "outputs": [],
   "source": [
    "#get a specific column"
   ]
  },
  {
   "cell_type": "code",
   "execution_count": null,
   "id": "55918fff-1e39-40fb-8368-21bbebc52670",
   "metadata": {},
   "outputs": [],
   "source": [
    "a[:, 2]"
   ]
  },
  {
   "cell_type": "code",
   "execution_count": null,
   "id": "7877a6c8-5f58-4d7d-9031-8ed34d791e9c",
   "metadata": {},
   "outputs": [],
   "source": [
    "#getting more fancy (start index:end index:steosize)"
   ]
  },
  {
   "cell_type": "code",
   "execution_count": null,
   "id": "d976f1b4-7e3a-4fee-af66-5cf85e29a62d",
   "metadata": {},
   "outputs": [],
   "source": [
    "a[0,1:6 :2]"
   ]
  },
  {
   "cell_type": "code",
   "execution_count": null,
   "id": "b8b887be-e0b0-4208-8c51-0ecff8de9366",
   "metadata": {},
   "outputs": [],
   "source": [
    "a[0,1:-1 :2]"
   ]
  },
  {
   "cell_type": "code",
   "execution_count": null,
   "id": "ca37c1c3-744e-4b25-b5eb-28015fc6f57e",
   "metadata": {},
   "outputs": [],
   "source": [
    "a[1,5] = 20\n",
    "a[:,2] = [1,2]\n",
    "print(a)"
   ]
  },
  {
   "cell_type": "code",
   "execution_count": null,
   "id": "ae4b9a36-b9d3-4255-bbc0-6e5e062d4c95",
   "metadata": {},
   "outputs": [],
   "source": [
    "a[:,2]=5\n",
    "print(a)"
   ]
  },
  {
   "cell_type": "code",
   "execution_count": null,
   "id": "c4afa7fe-7643-458d-b223-d189513aa50b",
   "metadata": {},
   "outputs": [],
   "source": [
    "a[:,2] = [1,2]\n",
    "print(a)"
   ]
  },
  {
   "cell_type": "code",
   "execution_count": null,
   "id": "cee7eed3-be48-4e7a-9280-f447a65d9b14",
   "metadata": {},
   "outputs": [],
   "source": [
    "#3-d example"
   ]
  },
  {
   "cell_type": "code",
   "execution_count": null,
   "id": "8104bef8-c5c0-4253-9671-8b84a5c91567",
   "metadata": {},
   "outputs": [],
   "source": [
    "b = np.array([[[1,2],[3,4]],[[5,6],[7,8]]])\n",
    "print(b)"
   ]
  },
  {
   "cell_type": "code",
   "execution_count": null,
   "id": "af4c5d32-f386-45a4-8ea7-7b3c7b6522f5",
   "metadata": {},
   "outputs": [],
   "source": [
    "#get a specify element (work outside in)"
   ]
  },
  {
   "cell_type": "code",
   "execution_count": null,
   "id": "2e5107dc-3982-4c1b-a742-d8fcacac6201",
   "metadata": {},
   "outputs": [],
   "source": [
    "b[0,1]"
   ]
  },
  {
   "cell_type": "code",
   "execution_count": null,
   "id": "4f28dd5c-34dc-442c-9ac5-d5022681c305",
   "metadata": {},
   "outputs": [],
   "source": [
    "b[:,1,:]"
   ]
  },
  {
   "cell_type": "code",
   "execution_count": null,
   "id": "7ffd5d02-b700-42fd-83a5-14a4fb1869d0",
   "metadata": {},
   "outputs": [],
   "source": [
    "#replace"
   ]
  },
  {
   "cell_type": "code",
   "execution_count": null,
   "id": "28a0299b-2a38-4dd0-bca8-bd41652b1924",
   "metadata": {},
   "outputs": [],
   "source": [
    "b[:,1,:] = [[9,9],[8,8]]"
   ]
  },
  {
   "cell_type": "code",
   "execution_count": null,
   "id": "51920f6b-73b8-4ff2-9451-ccf9b20cde73",
   "metadata": {},
   "outputs": [],
   "source": [
    "#initializing All zeros matrix"
   ]
  },
  {
   "cell_type": "code",
   "execution_count": null,
   "id": "00572aef-3d04-423e-abe9-7d0377158beb",
   "metadata": {},
   "outputs": [],
   "source": [
    "np.zeros(5)"
   ]
  },
  {
   "cell_type": "code",
   "execution_count": null,
   "id": "b2aa8910-c4cd-4a25-afcd-03e2bb600e4a",
   "metadata": {},
   "outputs": [],
   "source": [
    "np.zeros((2,3))"
   ]
  },
  {
   "cell_type": "code",
   "execution_count": null,
   "id": "7f94ea0e-0692-403f-84a0-fc3998d52775",
   "metadata": {},
   "outputs": [],
   "source": [
    "np.zeros((2,3,3,2))"
   ]
  },
  {
   "cell_type": "code",
   "execution_count": null,
   "id": "43e9d2e7-791e-4d85-8893-f71736a22e75",
   "metadata": {},
   "outputs": [],
   "source": [
    "#all is matrix"
   ]
  },
  {
   "cell_type": "code",
   "execution_count": null,
   "id": "f9666d3d-63f3-4984-851a-b4d6dd38883b",
   "metadata": {},
   "outputs": [],
   "source": [
    "np.ones((4,2,2), dtype= 'int32')"
   ]
  },
  {
   "cell_type": "code",
   "execution_count": null,
   "id": "d5bb9196-4892-472b-b125-6a3c63d175bb",
   "metadata": {},
   "outputs": [],
   "source": [
    "a = np.array([[1,2,3,4,5],[6,7,8,9,10],[11,12,13,14,15],[16,17,18,19,20],[21,22,23,24,25],[26,27,28,29,30]])                                                                                                                                  6,7\n",
    "print(a)"
   ]
  },
  {
   "cell_type": "code",
   "execution_count": null,
   "id": "aacd87a5-dc8a-4913-b28b-9787c90699c6",
   "metadata": {},
   "outputs": [],
   "source": []
  },
  {
   "cell_type": "code",
   "execution_count": null,
   "id": "02d1732c-189f-4c37-895f-4be8543a27ab",
   "metadata": {},
   "outputs": [],
   "source": [
    "# #Python NumPy Library for Data Analysis\n",
    "# NumPy (Numerical Python) is a Python library for data science and numerical\n",
    " # computing. Many advanced data science and machine learning libraries require data\n",
    "# to be in the form of NumPy arrays before it can be processed. In this chapter, you\n",
    "# are going to learn some of the most commonly used functionalities of the NumPy\n",
    "# array. NumPy comes prebuilt with Anaconda’s distribution of Python. Or else, you\n",
    "# can install NumPy with the following pip command in a terminal or a command\n",
    "# prompt:\n",
    "#$ pip i\n",
    "# 3.1. Advantages of NumPy Library\n",
    "A NumPy array has many advantages over regular Python lists. Some of them are\n",
    "listed below:\n",
    "1. NumPy arrays are much faster for insertion, deletion, updating, and reading\n",
    "2. NumPy arrays contain advanced broadcasting functionalities compared with\n",
    "Python arrays.\n",
    "3. NumPy array comes with a lot of methods that support advanced arithmetic\n",
    "linear algebra options.\n",
    "4. NumPy provides advanced multi-dimensional array slicing capabilities\n",
    "# 3.1. Advantages of NumPy Library\n",
    "A NumPy array has many advantages over regular Python lists. Some of them are\n",
    "listed below:\n",
    "1. NumPy arrays are much faster for insertion, deletion, updating, and reading\n",
    "2. NumPy arrays contain advanced broadcasting functionalities compared with\n",
    "Python arrays.\n",
    "3. NumPy array comes with a lot of methods that support advanced arithmetic\n",
    "linear algebra options.\n",
    "4. NumPy provides advanced multi-dimensional array slicing capabilities"
   ]
  },
  {
   "cell_type": "code",
   "execution_count": null,
   "id": "5b1cffde-f4c3-491c-97e3-06b472dfaa88",
   "metadata": {},
   "outputs": [],
   "source": []
  },
  {
   "cell_type": "code",
   "execution_count": null,
   "id": "559ab1ec-66f3-4441-8994-8fd0c5d7732a",
   "metadata": {},
   "outputs": [],
   "source": [
    "#exercises in Numpy"
   ]
  },
  {
   "cell_type": "code",
   "execution_count": null,
   "id": "c5efc8d1-398c-453a-bc20-dbb3b61ad7b7",
   "metadata": {},
   "outputs": [],
   "source": [
    "#exercise 1,Exercise 1: Write a NumPy program to create an array of 10 zeros, 10 ones, 10 fives.\n",
    "Hint:\n",
    "array_1 = np.zeros()\n",
    "print (array)"
   ]
  },
  {
   "cell_type": "code",
   "execution_count": null,
   "id": "4cace8c9-a576-4c6b-a575-a9fdd3793fa7",
   "metadata": {},
   "outputs": [],
   "source": [
    "import numpy as np\n",
    "\n",
    "a= np.zeros(10)\n",
    "\n",
    "print(a)\n",
    "\n",
    "b = np.ones(10)\n",
    "print(b)\n",
    "\n",
    "c = np.ones(10)*5\n",
    "\n",
    "print(c)\n"
   ]
  },
  {
   "cell_type": "code",
   "execution_count": null,
   "id": "dbdf6d70-c85a-4e25-a61a-5548436d8828",
   "metadata": {},
   "outputs": [],
   "source": [
    "c = b*5\n",
    "print(c)"
   ]
  },
  {
   "cell_type": "code",
   "execution_count": null,
   "id": "8d963e96-b9a4-4988-be72-cec4756e1186",
   "metadata": {},
   "outputs": [],
   "source": [
    "#Exercise 2: Write a NumPy program to create an array of the integers from 30 to 70 #.\n",
    "Hint:\n",
    " # Recall/Research the .arange() method in NumPy #"
   ]
  },
  {
   "cell_type": "code",
   "execution_count": null,
   "id": "660b3212-0005-4b08-b35c-2c3dccb04498",
   "metadata": {},
   "outputs": [],
   "source": [
    "import numpy as np\n",
    "\n",
    "array=np.arange(30,71)\n",
    "\n",
    "print(\"Array of the integers from 30 to 70\")\n",
    "\n",
    "print(array)"
   ]
  },
  {
   "cell_type": "code",
   "execution_count": null,
   "id": "aed9f880-b5a2-4c30-9cd1-5292ae3243e0",
   "metadata": {},
   "outputs": [],
   "source": [
    "# Exercise 3: Write a NumPy program to create an array of all the even integers from 30 to 70.\n",
    " # Hint:\n",
    " # Recall/Research the .arange() method in NumPy"
   ]
  },
  {
   "cell_type": "code",
   "execution_count": null,
   "id": "2304996d-db2f-4326-ac5a-4ad30bab47a1",
   "metadata": {},
   "outputs": [],
   "source": [
    "import numpy as np\n",
    "\n",
    "array=np.arange(30,71,2)\n",
    "\n",
    "print(\"Array of all the even integers from 30 to 70\")\n",
    "\n",
    "print(array)"
   ]
  },
  {
   "cell_type": "code",
   "execution_count": null,
   "id": "916a7571-19b7-4be5-a625-ea4e55425e6d",
   "metadata": {},
   "outputs": [],
   "source": [
    "# Exercise 4: Write a NumPy program to create a 3x3 identity matrix.\n",
    "# Hint:\n",
    "# Recall/Research the .identity() method in NumPy"
   ]
  },
  {
   "cell_type": "code",
   "execution_count": null,
   "id": "4ca86d4d-7f73-4b96-aec8-ee4488049ee2",
   "metadata": {},
   "outputs": [],
   "source": [
    "import numpy as np\n",
    "\n",
    "array_2D=np.identity(3)\n",
    "\n",
    "print('3x3 matrix:')\n",
    "\n",
    "print(array_2D)\n"
   ]
  },
  {
   "cell_type": "code",
   "execution_count": null,
   "id": "4f64e4d2-9a14-4a59-885f-beefc37a829d",
   "metadata": {},
   "outputs": [],
   "source": [
    "# Exercise 5: Write a NumPy program to create a 3x4 matrix filled with values from 10 to 21.\n",
    "# Hint:\n",
    "# Recall/Research the .arange() and .reshape() methods in NumPy"
   ]
  },
  {
   "cell_type": "code",
   "execution_count": null,
   "id": "a54d1981-30eb-4440-95e4-6931963db4d4",
   "metadata": {},
   "outputs": [],
   "source": [
    "import numpy as np\n",
    "\n",
    "m= np.arange(10,22).reshape((3, 4))\n",
    "\n",
    "print(m)"
   ]
  }
 ],
 "metadata": {
  "kernelspec": {
   "display_name": "Python 3 (ipykernel)",
   "language": "python",
   "name": "python3"
  },
  "language_info": {
   "codemirror_mode": {
    "name": "ipython",
    "version": 3
   },
   "file_extension": ".py",
   "mimetype": "text/x-python",
   "name": "python",
   "nbconvert_exporter": "python",
   "pygments_lexer": "ipython3",
   "version": "3.9.7"
  }
 },
 "nbformat": 4,
 "nbformat_minor": 5
}
